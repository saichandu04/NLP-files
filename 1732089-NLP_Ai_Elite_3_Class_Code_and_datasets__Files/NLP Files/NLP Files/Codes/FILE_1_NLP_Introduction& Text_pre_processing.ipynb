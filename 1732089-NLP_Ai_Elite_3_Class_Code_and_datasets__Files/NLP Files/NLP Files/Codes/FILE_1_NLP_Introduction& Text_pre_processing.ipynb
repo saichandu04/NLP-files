{
  "nbformat": 4,
  "nbformat_minor": 0,
  "metadata": {
    "colab": {
      "name": "NLP-Introduction.ipynb",
      "provenance": [],
      "collapsed_sections": []
    },
    "kernelspec": {
      "name": "python3",
      "display_name": "Python 3"
    },
    "language_info": {
      "name": "python"
    }
  },
  "cells": [
    {
      "cell_type": "code",
      "execution_count": 1,
      "metadata": {
        "id": "SfYWwWN7n-wF"
      },
      "outputs": [],
      "source": [
        "import pandas as pd \n",
        "import string\n",
        "import nltk\n",
        "\n",
        "pd.set_option('display.max_colwidth', None)"
      ]
    },
    {
      "cell_type": "code",
      "source": [
        "text = [\"Google News is a news aggregator service developed by Google&&&.\",\n",
        "        \"It ^presents a continuous flow## of lonks to articles organized from thousands of publishers and magazines.\",\n",
        " \"So stey taned for FURther More &&\",\"Google News is **available as an app on $$Android, #iOS, and the Web.\", \n",
        " \"Google released a /beta version in <>September 2002 and the official app in January 2006.\"]\n",
        "df = pd.DataFrame({'text':text})\n",
        "df.head()"
      ],
      "metadata": {
        "colab": {
          "base_uri": "https://localhost:8080/",
          "height": 268
        },
        "id": "dLVlAl_htEvv",
        "outputId": "570ccac1-35e1-45bb-cec7-e0859ba97cd6"
      },
      "execution_count": 2,
      "outputs": [
        {
          "output_type": "execute_result",
          "data": {
            "text/plain": [
              "                                                                                                          text\n",
              "0                                             Google News is a news aggregator service developed by Google&&&.\n",
              "1  It ^presents a continuous flow## of lonks to articles organized from thousands of publishers and magazines.\n",
              "2                                                                            So stey taned for FURther More &&\n",
              "3                                        Google News is **available as an app on $$Android, #iOS, and the Web.\n",
              "4                    Google released a /beta version in <>September 2002 and the official app in January 2006."
            ],
            "text/html": [
              "\n",
              "  <div id=\"df-5b1499af-d681-4a88-ad53-47c2a835bed7\">\n",
              "    <div class=\"colab-df-container\">\n",
              "      <div>\n",
              "<style scoped>\n",
              "    .dataframe tbody tr th:only-of-type {\n",
              "        vertical-align: middle;\n",
              "    }\n",
              "\n",
              "    .dataframe tbody tr th {\n",
              "        vertical-align: top;\n",
              "    }\n",
              "\n",
              "    .dataframe thead th {\n",
              "        text-align: right;\n",
              "    }\n",
              "</style>\n",
              "<table border=\"1\" class=\"dataframe\">\n",
              "  <thead>\n",
              "    <tr style=\"text-align: right;\">\n",
              "      <th></th>\n",
              "      <th>text</th>\n",
              "    </tr>\n",
              "  </thead>\n",
              "  <tbody>\n",
              "    <tr>\n",
              "      <th>0</th>\n",
              "      <td>Google News is a news aggregator service developed by Google&amp;&amp;&amp;.</td>\n",
              "    </tr>\n",
              "    <tr>\n",
              "      <th>1</th>\n",
              "      <td>It ^presents a continuous flow## of lonks to articles organized from thousands of publishers and magazines.</td>\n",
              "    </tr>\n",
              "    <tr>\n",
              "      <th>2</th>\n",
              "      <td>So stey taned for FURther More &amp;&amp;</td>\n",
              "    </tr>\n",
              "    <tr>\n",
              "      <th>3</th>\n",
              "      <td>Google News is **available as an app on $$Android, #iOS, and the Web.</td>\n",
              "    </tr>\n",
              "    <tr>\n",
              "      <th>4</th>\n",
              "      <td>Google released a /beta version in &lt;&gt;September 2002 and the official app in January 2006.</td>\n",
              "    </tr>\n",
              "  </tbody>\n",
              "</table>\n",
              "</div>\n",
              "      <button class=\"colab-df-convert\" onclick=\"convertToInteractive('df-5b1499af-d681-4a88-ad53-47c2a835bed7')\"\n",
              "              title=\"Convert this dataframe to an interactive table.\"\n",
              "              style=\"display:none;\">\n",
              "        \n",
              "  <svg xmlns=\"http://www.w3.org/2000/svg\" height=\"24px\"viewBox=\"0 0 24 24\"\n",
              "       width=\"24px\">\n",
              "    <path d=\"M0 0h24v24H0V0z\" fill=\"none\"/>\n",
              "    <path d=\"M18.56 5.44l.94 2.06.94-2.06 2.06-.94-2.06-.94-.94-2.06-.94 2.06-2.06.94zm-11 1L8.5 8.5l.94-2.06 2.06-.94-2.06-.94L8.5 2.5l-.94 2.06-2.06.94zm10 10l.94 2.06.94-2.06 2.06-.94-2.06-.94-.94-2.06-.94 2.06-2.06.94z\"/><path d=\"M17.41 7.96l-1.37-1.37c-.4-.4-.92-.59-1.43-.59-.52 0-1.04.2-1.43.59L10.3 9.45l-7.72 7.72c-.78.78-.78 2.05 0 2.83L4 21.41c.39.39.9.59 1.41.59.51 0 1.02-.2 1.41-.59l7.78-7.78 2.81-2.81c.8-.78.8-2.07 0-2.86zM5.41 20L4 18.59l7.72-7.72 1.47 1.35L5.41 20z\"/>\n",
              "  </svg>\n",
              "      </button>\n",
              "      \n",
              "  <style>\n",
              "    .colab-df-container {\n",
              "      display:flex;\n",
              "      flex-wrap:wrap;\n",
              "      gap: 12px;\n",
              "    }\n",
              "\n",
              "    .colab-df-convert {\n",
              "      background-color: #E8F0FE;\n",
              "      border: none;\n",
              "      border-radius: 50%;\n",
              "      cursor: pointer;\n",
              "      display: none;\n",
              "      fill: #1967D2;\n",
              "      height: 32px;\n",
              "      padding: 0 0 0 0;\n",
              "      width: 32px;\n",
              "    }\n",
              "\n",
              "    .colab-df-convert:hover {\n",
              "      background-color: #E2EBFA;\n",
              "      box-shadow: 0px 1px 2px rgba(60, 64, 67, 0.3), 0px 1px 3px 1px rgba(60, 64, 67, 0.15);\n",
              "      fill: #174EA6;\n",
              "    }\n",
              "\n",
              "    [theme=dark] .colab-df-convert {\n",
              "      background-color: #3B4455;\n",
              "      fill: #D2E3FC;\n",
              "    }\n",
              "\n",
              "    [theme=dark] .colab-df-convert:hover {\n",
              "      background-color: #434B5C;\n",
              "      box-shadow: 0px 1px 3px 1px rgba(0, 0, 0, 0.15);\n",
              "      filter: drop-shadow(0px 1px 2px rgba(0, 0, 0, 0.3));\n",
              "      fill: #FFFFFF;\n",
              "    }\n",
              "  </style>\n",
              "\n",
              "      <script>\n",
              "        const buttonEl =\n",
              "          document.querySelector('#df-5b1499af-d681-4a88-ad53-47c2a835bed7 button.colab-df-convert');\n",
              "        buttonEl.style.display =\n",
              "          google.colab.kernel.accessAllowed ? 'block' : 'none';\n",
              "\n",
              "        async function convertToInteractive(key) {\n",
              "          const element = document.querySelector('#df-5b1499af-d681-4a88-ad53-47c2a835bed7');\n",
              "          const dataTable =\n",
              "            await google.colab.kernel.invokeFunction('convertToInteractive',\n",
              "                                                     [key], {});\n",
              "          if (!dataTable) return;\n",
              "\n",
              "          const docLinkHtml = 'Like what you see? Visit the ' +\n",
              "            '<a target=\"_blank\" href=https://colab.research.google.com/notebooks/data_table.ipynb>data table notebook</a>'\n",
              "            + ' to learn more about interactive tables.';\n",
              "          element.innerHTML = '';\n",
              "          dataTable['output_type'] = 'display_data';\n",
              "          await google.colab.output.renderOutput(dataTable, element);\n",
              "          const docLink = document.createElement('div');\n",
              "          docLink.innerHTML = docLinkHtml;\n",
              "          element.appendChild(docLink);\n",
              "        }\n",
              "      </script>\n",
              "    </div>\n",
              "  </div>\n",
              "  "
            ]
          },
          "metadata": {},
          "execution_count": 2
        }
      ]
    },
    {
      "cell_type": "code",
      "source": [
        "df['lower'] = df['text'].apply(lambda x: \" \".join(x.lower()  for x in x.split()))"
      ],
      "metadata": {
        "id": "geQUFhi4tEyd"
      },
      "execution_count": 3,
      "outputs": []
    },
    {
      "cell_type": "markdown",
      "source": [
        "**Spelling Correction**"
      ],
      "metadata": {
        "id": "3byiDk6IxC7b"
      }
    },
    {
      "cell_type": "code",
      "source": [
        "from textblob import TextBlob"
      ],
      "metadata": {
        "id": "MYLUkRWcwYMP"
      },
      "execution_count": 4,
      "outputs": []
    },
    {
      "cell_type": "code",
      "source": [
        "df['spell_corrected'] = df['lower'].apply(lambda x : str(TextBlob(x).correct()))"
      ],
      "metadata": {
        "id": "uL-MXOS0wiww"
      },
      "execution_count": 5,
      "outputs": []
    },
    {
      "cell_type": "code",
      "source": [
        "df.head()"
      ],
      "metadata": {
        "colab": {
          "base_uri": "https://localhost:8080/",
          "height": 441
        },
        "id": "D0d3HOLfxT50",
        "outputId": "6d1053f8-446f-415b-9d6f-c043475995fd"
      },
      "execution_count": 6,
      "outputs": [
        {
          "output_type": "execute_result",
          "data": {
            "text/plain": [
              "                                                                                                          text  \\\n",
              "0                                             Google News is a news aggregator service developed by Google&&&.   \n",
              "1  It ^presents a continuous flow## of lonks to articles organized from thousands of publishers and magazines.   \n",
              "2                                                                            So stey taned for FURther More &&   \n",
              "3                                        Google News is **available as an app on $$Android, #iOS, and the Web.   \n",
              "4                    Google released a /beta version in <>September 2002 and the official app in January 2006.   \n",
              "\n",
              "                                                                                                         lower  \\\n",
              "0                                             google news is a news aggregator service developed by google&&&.   \n",
              "1  it ^presents a continuous flow## of lonks to articles organized from thousands of publishers and magazines.   \n",
              "2                                                                            so stey taned for further more &&   \n",
              "3                                        google news is **available as an app on $$android, #ios, and the web.   \n",
              "4                    google released a /beta version in <>september 2002 and the official app in january 2006.   \n",
              "\n",
              "                                                                                               spell_corrected  \n",
              "0                                                goose news is a news aggregate service developed by goose&&&.  \n",
              "1  it ^presents a continuous flow## of looks to articles organized from thousands of publishers and magazines.  \n",
              "2                                                                            so step taxed for further more &&  \n",
              "3                                            goose news is **available as an pp on $$andros, #is, and the web.  \n",
              "4                      goose released a /beta version in <>september 2002 and the official pp in january 2006.  "
            ],
            "text/html": [
              "\n",
              "  <div id=\"df-af848994-810e-4113-a91c-b39f5b629bb9\">\n",
              "    <div class=\"colab-df-container\">\n",
              "      <div>\n",
              "<style scoped>\n",
              "    .dataframe tbody tr th:only-of-type {\n",
              "        vertical-align: middle;\n",
              "    }\n",
              "\n",
              "    .dataframe tbody tr th {\n",
              "        vertical-align: top;\n",
              "    }\n",
              "\n",
              "    .dataframe thead th {\n",
              "        text-align: right;\n",
              "    }\n",
              "</style>\n",
              "<table border=\"1\" class=\"dataframe\">\n",
              "  <thead>\n",
              "    <tr style=\"text-align: right;\">\n",
              "      <th></th>\n",
              "      <th>text</th>\n",
              "      <th>lower</th>\n",
              "      <th>spell_corrected</th>\n",
              "    </tr>\n",
              "  </thead>\n",
              "  <tbody>\n",
              "    <tr>\n",
              "      <th>0</th>\n",
              "      <td>Google News is a news aggregator service developed by Google&amp;&amp;&amp;.</td>\n",
              "      <td>google news is a news aggregator service developed by google&amp;&amp;&amp;.</td>\n",
              "      <td>goose news is a news aggregate service developed by goose&amp;&amp;&amp;.</td>\n",
              "    </tr>\n",
              "    <tr>\n",
              "      <th>1</th>\n",
              "      <td>It ^presents a continuous flow## of lonks to articles organized from thousands of publishers and magazines.</td>\n",
              "      <td>it ^presents a continuous flow## of lonks to articles organized from thousands of publishers and magazines.</td>\n",
              "      <td>it ^presents a continuous flow## of looks to articles organized from thousands of publishers and magazines.</td>\n",
              "    </tr>\n",
              "    <tr>\n",
              "      <th>2</th>\n",
              "      <td>So stey taned for FURther More &amp;&amp;</td>\n",
              "      <td>so stey taned for further more &amp;&amp;</td>\n",
              "      <td>so step taxed for further more &amp;&amp;</td>\n",
              "    </tr>\n",
              "    <tr>\n",
              "      <th>3</th>\n",
              "      <td>Google News is **available as an app on $$Android, #iOS, and the Web.</td>\n",
              "      <td>google news is **available as an app on $$android, #ios, and the web.</td>\n",
              "      <td>goose news is **available as an pp on $$andros, #is, and the web.</td>\n",
              "    </tr>\n",
              "    <tr>\n",
              "      <th>4</th>\n",
              "      <td>Google released a /beta version in &lt;&gt;September 2002 and the official app in January 2006.</td>\n",
              "      <td>google released a /beta version in &lt;&gt;september 2002 and the official app in january 2006.</td>\n",
              "      <td>goose released a /beta version in &lt;&gt;september 2002 and the official pp in january 2006.</td>\n",
              "    </tr>\n",
              "  </tbody>\n",
              "</table>\n",
              "</div>\n",
              "      <button class=\"colab-df-convert\" onclick=\"convertToInteractive('df-af848994-810e-4113-a91c-b39f5b629bb9')\"\n",
              "              title=\"Convert this dataframe to an interactive table.\"\n",
              "              style=\"display:none;\">\n",
              "        \n",
              "  <svg xmlns=\"http://www.w3.org/2000/svg\" height=\"24px\"viewBox=\"0 0 24 24\"\n",
              "       width=\"24px\">\n",
              "    <path d=\"M0 0h24v24H0V0z\" fill=\"none\"/>\n",
              "    <path d=\"M18.56 5.44l.94 2.06.94-2.06 2.06-.94-2.06-.94-.94-2.06-.94 2.06-2.06.94zm-11 1L8.5 8.5l.94-2.06 2.06-.94-2.06-.94L8.5 2.5l-.94 2.06-2.06.94zm10 10l.94 2.06.94-2.06 2.06-.94-2.06-.94-.94-2.06-.94 2.06-2.06.94z\"/><path d=\"M17.41 7.96l-1.37-1.37c-.4-.4-.92-.59-1.43-.59-.52 0-1.04.2-1.43.59L10.3 9.45l-7.72 7.72c-.78.78-.78 2.05 0 2.83L4 21.41c.39.39.9.59 1.41.59.51 0 1.02-.2 1.41-.59l7.78-7.78 2.81-2.81c.8-.78.8-2.07 0-2.86zM5.41 20L4 18.59l7.72-7.72 1.47 1.35L5.41 20z\"/>\n",
              "  </svg>\n",
              "      </button>\n",
              "      \n",
              "  <style>\n",
              "    .colab-df-container {\n",
              "      display:flex;\n",
              "      flex-wrap:wrap;\n",
              "      gap: 12px;\n",
              "    }\n",
              "\n",
              "    .colab-df-convert {\n",
              "      background-color: #E8F0FE;\n",
              "      border: none;\n",
              "      border-radius: 50%;\n",
              "      cursor: pointer;\n",
              "      display: none;\n",
              "      fill: #1967D2;\n",
              "      height: 32px;\n",
              "      padding: 0 0 0 0;\n",
              "      width: 32px;\n",
              "    }\n",
              "\n",
              "    .colab-df-convert:hover {\n",
              "      background-color: #E2EBFA;\n",
              "      box-shadow: 0px 1px 2px rgba(60, 64, 67, 0.3), 0px 1px 3px 1px rgba(60, 64, 67, 0.15);\n",
              "      fill: #174EA6;\n",
              "    }\n",
              "\n",
              "    [theme=dark] .colab-df-convert {\n",
              "      background-color: #3B4455;\n",
              "      fill: #D2E3FC;\n",
              "    }\n",
              "\n",
              "    [theme=dark] .colab-df-convert:hover {\n",
              "      background-color: #434B5C;\n",
              "      box-shadow: 0px 1px 3px 1px rgba(0, 0, 0, 0.15);\n",
              "      filter: drop-shadow(0px 1px 2px rgba(0, 0, 0, 0.3));\n",
              "      fill: #FFFFFF;\n",
              "    }\n",
              "  </style>\n",
              "\n",
              "      <script>\n",
              "        const buttonEl =\n",
              "          document.querySelector('#df-af848994-810e-4113-a91c-b39f5b629bb9 button.colab-df-convert');\n",
              "        buttonEl.style.display =\n",
              "          google.colab.kernel.accessAllowed ? 'block' : 'none';\n",
              "\n",
              "        async function convertToInteractive(key) {\n",
              "          const element = document.querySelector('#df-af848994-810e-4113-a91c-b39f5b629bb9');\n",
              "          const dataTable =\n",
              "            await google.colab.kernel.invokeFunction('convertToInteractive',\n",
              "                                                     [key], {});\n",
              "          if (!dataTable) return;\n",
              "\n",
              "          const docLinkHtml = 'Like what you see? Visit the ' +\n",
              "            '<a target=\"_blank\" href=https://colab.research.google.com/notebooks/data_table.ipynb>data table notebook</a>'\n",
              "            + ' to learn more about interactive tables.';\n",
              "          element.innerHTML = '';\n",
              "          dataTable['output_type'] = 'display_data';\n",
              "          await google.colab.output.renderOutput(dataTable, element);\n",
              "          const docLink = document.createElement('div');\n",
              "          docLink.innerHTML = docLinkHtml;\n",
              "          element.appendChild(docLink);\n",
              "        }\n",
              "      </script>\n",
              "    </div>\n",
              "  </div>\n",
              "  "
            ]
          },
          "metadata": {},
          "execution_count": 6
        }
      ]
    },
    {
      "cell_type": "code",
      "source": [
        "df.head()"
      ],
      "metadata": {
        "colab": {
          "base_uri": "https://localhost:8080/",
          "height": 441
        },
        "id": "3WMRDC5_uoQK",
        "outputId": "23303386-e5eb-4f0d-c45e-be995b113076"
      },
      "execution_count": 7,
      "outputs": [
        {
          "output_type": "execute_result",
          "data": {
            "text/plain": [
              "                                                                                                          text  \\\n",
              "0                                             Google News is a news aggregator service developed by Google&&&.   \n",
              "1  It ^presents a continuous flow## of lonks to articles organized from thousands of publishers and magazines.   \n",
              "2                                                                            So stey taned for FURther More &&   \n",
              "3                                        Google News is **available as an app on $$Android, #iOS, and the Web.   \n",
              "4                    Google released a /beta version in <>September 2002 and the official app in January 2006.   \n",
              "\n",
              "                                                                                                         lower  \\\n",
              "0                                             google news is a news aggregator service developed by google&&&.   \n",
              "1  it ^presents a continuous flow## of lonks to articles organized from thousands of publishers and magazines.   \n",
              "2                                                                            so stey taned for further more &&   \n",
              "3                                        google news is **available as an app on $$android, #ios, and the web.   \n",
              "4                    google released a /beta version in <>september 2002 and the official app in january 2006.   \n",
              "\n",
              "                                                                                               spell_corrected  \n",
              "0                                                goose news is a news aggregate service developed by goose&&&.  \n",
              "1  it ^presents a continuous flow## of looks to articles organized from thousands of publishers and magazines.  \n",
              "2                                                                            so step taxed for further more &&  \n",
              "3                                            goose news is **available as an pp on $$andros, #is, and the web.  \n",
              "4                      goose released a /beta version in <>september 2002 and the official pp in january 2006.  "
            ],
            "text/html": [
              "\n",
              "  <div id=\"df-d089349c-82d7-46fe-80ef-eb2273bad718\">\n",
              "    <div class=\"colab-df-container\">\n",
              "      <div>\n",
              "<style scoped>\n",
              "    .dataframe tbody tr th:only-of-type {\n",
              "        vertical-align: middle;\n",
              "    }\n",
              "\n",
              "    .dataframe tbody tr th {\n",
              "        vertical-align: top;\n",
              "    }\n",
              "\n",
              "    .dataframe thead th {\n",
              "        text-align: right;\n",
              "    }\n",
              "</style>\n",
              "<table border=\"1\" class=\"dataframe\">\n",
              "  <thead>\n",
              "    <tr style=\"text-align: right;\">\n",
              "      <th></th>\n",
              "      <th>text</th>\n",
              "      <th>lower</th>\n",
              "      <th>spell_corrected</th>\n",
              "    </tr>\n",
              "  </thead>\n",
              "  <tbody>\n",
              "    <tr>\n",
              "      <th>0</th>\n",
              "      <td>Google News is a news aggregator service developed by Google&amp;&amp;&amp;.</td>\n",
              "      <td>google news is a news aggregator service developed by google&amp;&amp;&amp;.</td>\n",
              "      <td>goose news is a news aggregate service developed by goose&amp;&amp;&amp;.</td>\n",
              "    </tr>\n",
              "    <tr>\n",
              "      <th>1</th>\n",
              "      <td>It ^presents a continuous flow## of lonks to articles organized from thousands of publishers and magazines.</td>\n",
              "      <td>it ^presents a continuous flow## of lonks to articles organized from thousands of publishers and magazines.</td>\n",
              "      <td>it ^presents a continuous flow## of looks to articles organized from thousands of publishers and magazines.</td>\n",
              "    </tr>\n",
              "    <tr>\n",
              "      <th>2</th>\n",
              "      <td>So stey taned for FURther More &amp;&amp;</td>\n",
              "      <td>so stey taned for further more &amp;&amp;</td>\n",
              "      <td>so step taxed for further more &amp;&amp;</td>\n",
              "    </tr>\n",
              "    <tr>\n",
              "      <th>3</th>\n",
              "      <td>Google News is **available as an app on $$Android, #iOS, and the Web.</td>\n",
              "      <td>google news is **available as an app on $$android, #ios, and the web.</td>\n",
              "      <td>goose news is **available as an pp on $$andros, #is, and the web.</td>\n",
              "    </tr>\n",
              "    <tr>\n",
              "      <th>4</th>\n",
              "      <td>Google released a /beta version in &lt;&gt;September 2002 and the official app in January 2006.</td>\n",
              "      <td>google released a /beta version in &lt;&gt;september 2002 and the official app in january 2006.</td>\n",
              "      <td>goose released a /beta version in &lt;&gt;september 2002 and the official pp in january 2006.</td>\n",
              "    </tr>\n",
              "  </tbody>\n",
              "</table>\n",
              "</div>\n",
              "      <button class=\"colab-df-convert\" onclick=\"convertToInteractive('df-d089349c-82d7-46fe-80ef-eb2273bad718')\"\n",
              "              title=\"Convert this dataframe to an interactive table.\"\n",
              "              style=\"display:none;\">\n",
              "        \n",
              "  <svg xmlns=\"http://www.w3.org/2000/svg\" height=\"24px\"viewBox=\"0 0 24 24\"\n",
              "       width=\"24px\">\n",
              "    <path d=\"M0 0h24v24H0V0z\" fill=\"none\"/>\n",
              "    <path d=\"M18.56 5.44l.94 2.06.94-2.06 2.06-.94-2.06-.94-.94-2.06-.94 2.06-2.06.94zm-11 1L8.5 8.5l.94-2.06 2.06-.94-2.06-.94L8.5 2.5l-.94 2.06-2.06.94zm10 10l.94 2.06.94-2.06 2.06-.94-2.06-.94-.94-2.06-.94 2.06-2.06.94z\"/><path d=\"M17.41 7.96l-1.37-1.37c-.4-.4-.92-.59-1.43-.59-.52 0-1.04.2-1.43.59L10.3 9.45l-7.72 7.72c-.78.78-.78 2.05 0 2.83L4 21.41c.39.39.9.59 1.41.59.51 0 1.02-.2 1.41-.59l7.78-7.78 2.81-2.81c.8-.78.8-2.07 0-2.86zM5.41 20L4 18.59l7.72-7.72 1.47 1.35L5.41 20z\"/>\n",
              "  </svg>\n",
              "      </button>\n",
              "      \n",
              "  <style>\n",
              "    .colab-df-container {\n",
              "      display:flex;\n",
              "      flex-wrap:wrap;\n",
              "      gap: 12px;\n",
              "    }\n",
              "\n",
              "    .colab-df-convert {\n",
              "      background-color: #E8F0FE;\n",
              "      border: none;\n",
              "      border-radius: 50%;\n",
              "      cursor: pointer;\n",
              "      display: none;\n",
              "      fill: #1967D2;\n",
              "      height: 32px;\n",
              "      padding: 0 0 0 0;\n",
              "      width: 32px;\n",
              "    }\n",
              "\n",
              "    .colab-df-convert:hover {\n",
              "      background-color: #E2EBFA;\n",
              "      box-shadow: 0px 1px 2px rgba(60, 64, 67, 0.3), 0px 1px 3px 1px rgba(60, 64, 67, 0.15);\n",
              "      fill: #174EA6;\n",
              "    }\n",
              "\n",
              "    [theme=dark] .colab-df-convert {\n",
              "      background-color: #3B4455;\n",
              "      fill: #D2E3FC;\n",
              "    }\n",
              "\n",
              "    [theme=dark] .colab-df-convert:hover {\n",
              "      background-color: #434B5C;\n",
              "      box-shadow: 0px 1px 3px 1px rgba(0, 0, 0, 0.15);\n",
              "      filter: drop-shadow(0px 1px 2px rgba(0, 0, 0, 0.3));\n",
              "      fill: #FFFFFF;\n",
              "    }\n",
              "  </style>\n",
              "\n",
              "      <script>\n",
              "        const buttonEl =\n",
              "          document.querySelector('#df-d089349c-82d7-46fe-80ef-eb2273bad718 button.colab-df-convert');\n",
              "        buttonEl.style.display =\n",
              "          google.colab.kernel.accessAllowed ? 'block' : 'none';\n",
              "\n",
              "        async function convertToInteractive(key) {\n",
              "          const element = document.querySelector('#df-d089349c-82d7-46fe-80ef-eb2273bad718');\n",
              "          const dataTable =\n",
              "            await google.colab.kernel.invokeFunction('convertToInteractive',\n",
              "                                                     [key], {});\n",
              "          if (!dataTable) return;\n",
              "\n",
              "          const docLinkHtml = 'Like what you see? Visit the ' +\n",
              "            '<a target=\"_blank\" href=https://colab.research.google.com/notebooks/data_table.ipynb>data table notebook</a>'\n",
              "            + ' to learn more about interactive tables.';\n",
              "          element.innerHTML = '';\n",
              "          dataTable['output_type'] = 'display_data';\n",
              "          await google.colab.output.renderOutput(dataTable, element);\n",
              "          const docLink = document.createElement('div');\n",
              "          docLink.innerHTML = docLinkHtml;\n",
              "          element.appendChild(docLink);\n",
              "        }\n",
              "      </script>\n",
              "    </div>\n",
              "  </div>\n",
              "  "
            ]
          },
          "metadata": {},
          "execution_count": 7
        }
      ]
    },
    {
      "cell_type": "markdown",
      "source": [
        "**Punctuation Removal**"
      ],
      "metadata": {
        "id": "aXWeN7_gvNqR"
      }
    },
    {
      "cell_type": "code",
      "source": [
        "import string\n",
        "string.punctuation"
      ],
      "metadata": {
        "colab": {
          "base_uri": "https://localhost:8080/",
          "height": 35
        },
        "id": "UkAAHEvKtE1x",
        "outputId": "f0370a9c-6549-4ccd-dc7e-c4fff5add09f"
      },
      "execution_count": 8,
      "outputs": [
        {
          "output_type": "execute_result",
          "data": {
            "text/plain": [
              "'!\"#$%&\\'()*+,-./:;<=>?@[\\\\]^_`{|}~'"
            ],
            "application/vnd.google.colaboratory.intrinsic+json": {
              "type": "string"
            }
          },
          "metadata": {},
          "execution_count": 8
        }
      ]
    },
    {
      "cell_type": "code",
      "source": [
        "df['punct_removed'] = df.text.apply(lambda row: \"\".join(i for i in row if i not in string.punctuation))"
      ],
      "metadata": {
        "id": "kw4WjXwuuijl"
      },
      "execution_count": 9,
      "outputs": []
    },
    {
      "cell_type": "code",
      "source": [
        "df.head()"
      ],
      "metadata": {
        "colab": {
          "base_uri": "https://localhost:8080/",
          "height": 545
        },
        "id": "sTIZT5QRv3Qv",
        "outputId": "61e6a637-a2ff-40b9-84f5-8a5e04a05d8d"
      },
      "execution_count": 10,
      "outputs": [
        {
          "output_type": "execute_result",
          "data": {
            "text/plain": [
              "                                                                                                          text  \\\n",
              "0                                             Google News is a news aggregator service developed by Google&&&.   \n",
              "1  It ^presents a continuous flow## of lonks to articles organized from thousands of publishers and magazines.   \n",
              "2                                                                            So stey taned for FURther More &&   \n",
              "3                                        Google News is **available as an app on $$Android, #iOS, and the Web.   \n",
              "4                    Google released a /beta version in <>September 2002 and the official app in January 2006.   \n",
              "\n",
              "                                                                                                         lower  \\\n",
              "0                                             google news is a news aggregator service developed by google&&&.   \n",
              "1  it ^presents a continuous flow## of lonks to articles organized from thousands of publishers and magazines.   \n",
              "2                                                                            so stey taned for further more &&   \n",
              "3                                        google news is **available as an app on $$android, #ios, and the web.   \n",
              "4                    google released a /beta version in <>september 2002 and the official app in january 2006.   \n",
              "\n",
              "                                                                                               spell_corrected  \\\n",
              "0                                                goose news is a news aggregate service developed by goose&&&.   \n",
              "1  it ^presents a continuous flow## of looks to articles organized from thousands of publishers and magazines.   \n",
              "2                                                                            so step taxed for further more &&   \n",
              "3                                            goose news is **available as an pp on $$andros, #is, and the web.   \n",
              "4                      goose released a /beta version in <>september 2002 and the official pp in january 2006.   \n",
              "\n",
              "                                                                                             punct_removed  \n",
              "0                                             Google News is a news aggregator service developed by Google  \n",
              "1  It presents a continuous flow of lonks to articles organized from thousands of publishers and magazines  \n",
              "2                                                                          So stey taned for FURther More   \n",
              "3                                            Google News is available as an app on Android iOS and the Web  \n",
              "4                    Google released a beta version in September 2002 and the official app in January 2006  "
            ],
            "text/html": [
              "\n",
              "  <div id=\"df-a275c35e-b5b5-4667-ba2b-be03e29cfc88\">\n",
              "    <div class=\"colab-df-container\">\n",
              "      <div>\n",
              "<style scoped>\n",
              "    .dataframe tbody tr th:only-of-type {\n",
              "        vertical-align: middle;\n",
              "    }\n",
              "\n",
              "    .dataframe tbody tr th {\n",
              "        vertical-align: top;\n",
              "    }\n",
              "\n",
              "    .dataframe thead th {\n",
              "        text-align: right;\n",
              "    }\n",
              "</style>\n",
              "<table border=\"1\" class=\"dataframe\">\n",
              "  <thead>\n",
              "    <tr style=\"text-align: right;\">\n",
              "      <th></th>\n",
              "      <th>text</th>\n",
              "      <th>lower</th>\n",
              "      <th>spell_corrected</th>\n",
              "      <th>punct_removed</th>\n",
              "    </tr>\n",
              "  </thead>\n",
              "  <tbody>\n",
              "    <tr>\n",
              "      <th>0</th>\n",
              "      <td>Google News is a news aggregator service developed by Google&amp;&amp;&amp;.</td>\n",
              "      <td>google news is a news aggregator service developed by google&amp;&amp;&amp;.</td>\n",
              "      <td>goose news is a news aggregate service developed by goose&amp;&amp;&amp;.</td>\n",
              "      <td>Google News is a news aggregator service developed by Google</td>\n",
              "    </tr>\n",
              "    <tr>\n",
              "      <th>1</th>\n",
              "      <td>It ^presents a continuous flow## of lonks to articles organized from thousands of publishers and magazines.</td>\n",
              "      <td>it ^presents a continuous flow## of lonks to articles organized from thousands of publishers and magazines.</td>\n",
              "      <td>it ^presents a continuous flow## of looks to articles organized from thousands of publishers and magazines.</td>\n",
              "      <td>It presents a continuous flow of lonks to articles organized from thousands of publishers and magazines</td>\n",
              "    </tr>\n",
              "    <tr>\n",
              "      <th>2</th>\n",
              "      <td>So stey taned for FURther More &amp;&amp;</td>\n",
              "      <td>so stey taned for further more &amp;&amp;</td>\n",
              "      <td>so step taxed for further more &amp;&amp;</td>\n",
              "      <td>So stey taned for FURther More</td>\n",
              "    </tr>\n",
              "    <tr>\n",
              "      <th>3</th>\n",
              "      <td>Google News is **available as an app on $$Android, #iOS, and the Web.</td>\n",
              "      <td>google news is **available as an app on $$android, #ios, and the web.</td>\n",
              "      <td>goose news is **available as an pp on $$andros, #is, and the web.</td>\n",
              "      <td>Google News is available as an app on Android iOS and the Web</td>\n",
              "    </tr>\n",
              "    <tr>\n",
              "      <th>4</th>\n",
              "      <td>Google released a /beta version in &lt;&gt;September 2002 and the official app in January 2006.</td>\n",
              "      <td>google released a /beta version in &lt;&gt;september 2002 and the official app in january 2006.</td>\n",
              "      <td>goose released a /beta version in &lt;&gt;september 2002 and the official pp in january 2006.</td>\n",
              "      <td>Google released a beta version in September 2002 and the official app in January 2006</td>\n",
              "    </tr>\n",
              "  </tbody>\n",
              "</table>\n",
              "</div>\n",
              "      <button class=\"colab-df-convert\" onclick=\"convertToInteractive('df-a275c35e-b5b5-4667-ba2b-be03e29cfc88')\"\n",
              "              title=\"Convert this dataframe to an interactive table.\"\n",
              "              style=\"display:none;\">\n",
              "        \n",
              "  <svg xmlns=\"http://www.w3.org/2000/svg\" height=\"24px\"viewBox=\"0 0 24 24\"\n",
              "       width=\"24px\">\n",
              "    <path d=\"M0 0h24v24H0V0z\" fill=\"none\"/>\n",
              "    <path d=\"M18.56 5.44l.94 2.06.94-2.06 2.06-.94-2.06-.94-.94-2.06-.94 2.06-2.06.94zm-11 1L8.5 8.5l.94-2.06 2.06-.94-2.06-.94L8.5 2.5l-.94 2.06-2.06.94zm10 10l.94 2.06.94-2.06 2.06-.94-2.06-.94-.94-2.06-.94 2.06-2.06.94z\"/><path d=\"M17.41 7.96l-1.37-1.37c-.4-.4-.92-.59-1.43-.59-.52 0-1.04.2-1.43.59L10.3 9.45l-7.72 7.72c-.78.78-.78 2.05 0 2.83L4 21.41c.39.39.9.59 1.41.59.51 0 1.02-.2 1.41-.59l7.78-7.78 2.81-2.81c.8-.78.8-2.07 0-2.86zM5.41 20L4 18.59l7.72-7.72 1.47 1.35L5.41 20z\"/>\n",
              "  </svg>\n",
              "      </button>\n",
              "      \n",
              "  <style>\n",
              "    .colab-df-container {\n",
              "      display:flex;\n",
              "      flex-wrap:wrap;\n",
              "      gap: 12px;\n",
              "    }\n",
              "\n",
              "    .colab-df-convert {\n",
              "      background-color: #E8F0FE;\n",
              "      border: none;\n",
              "      border-radius: 50%;\n",
              "      cursor: pointer;\n",
              "      display: none;\n",
              "      fill: #1967D2;\n",
              "      height: 32px;\n",
              "      padding: 0 0 0 0;\n",
              "      width: 32px;\n",
              "    }\n",
              "\n",
              "    .colab-df-convert:hover {\n",
              "      background-color: #E2EBFA;\n",
              "      box-shadow: 0px 1px 2px rgba(60, 64, 67, 0.3), 0px 1px 3px 1px rgba(60, 64, 67, 0.15);\n",
              "      fill: #174EA6;\n",
              "    }\n",
              "\n",
              "    [theme=dark] .colab-df-convert {\n",
              "      background-color: #3B4455;\n",
              "      fill: #D2E3FC;\n",
              "    }\n",
              "\n",
              "    [theme=dark] .colab-df-convert:hover {\n",
              "      background-color: #434B5C;\n",
              "      box-shadow: 0px 1px 3px 1px rgba(0, 0, 0, 0.15);\n",
              "      filter: drop-shadow(0px 1px 2px rgba(0, 0, 0, 0.3));\n",
              "      fill: #FFFFFF;\n",
              "    }\n",
              "  </style>\n",
              "\n",
              "      <script>\n",
              "        const buttonEl =\n",
              "          document.querySelector('#df-a275c35e-b5b5-4667-ba2b-be03e29cfc88 button.colab-df-convert');\n",
              "        buttonEl.style.display =\n",
              "          google.colab.kernel.accessAllowed ? 'block' : 'none';\n",
              "\n",
              "        async function convertToInteractive(key) {\n",
              "          const element = document.querySelector('#df-a275c35e-b5b5-4667-ba2b-be03e29cfc88');\n",
              "          const dataTable =\n",
              "            await google.colab.kernel.invokeFunction('convertToInteractive',\n",
              "                                                     [key], {});\n",
              "          if (!dataTable) return;\n",
              "\n",
              "          const docLinkHtml = 'Like what you see? Visit the ' +\n",
              "            '<a target=\"_blank\" href=https://colab.research.google.com/notebooks/data_table.ipynb>data table notebook</a>'\n",
              "            + ' to learn more about interactive tables.';\n",
              "          element.innerHTML = '';\n",
              "          dataTable['output_type'] = 'display_data';\n",
              "          await google.colab.output.renderOutput(dataTable, element);\n",
              "          const docLink = document.createElement('div');\n",
              "          docLink.innerHTML = docLinkHtml;\n",
              "          element.appendChild(docLink);\n",
              "        }\n",
              "      </script>\n",
              "    </div>\n",
              "  </div>\n",
              "  "
            ]
          },
          "metadata": {},
          "execution_count": 10
        }
      ]
    },
    {
      "cell_type": "markdown",
      "source": [
        "**Stop-Words Removal**"
      ],
      "metadata": {
        "id": "ZNuSlVuzvSAL"
      }
    },
    {
      "cell_type": "code",
      "source": [
        "import nltk \n",
        "nltk.download('stopwords') \n",
        "from nltk.corpus import stopwords"
      ],
      "metadata": {
        "colab": {
          "base_uri": "https://localhost:8080/"
        },
        "id": "5BoX7XXTvVFP",
        "outputId": "d6b5bf71-43df-46c7-caed-e726481e0d25"
      },
      "execution_count": 11,
      "outputs": [
        {
          "output_type": "stream",
          "name": "stderr",
          "text": [
            "[nltk_data] Downloading package stopwords to /root/nltk_data...\n",
            "[nltk_data]   Unzipping corpora/stopwords.zip.\n"
          ]
        }
      ]
    },
    {
      "cell_type": "code",
      "source": [
        "allstopwords = stopwords.words('english')\n",
        "allstopwords"
      ],
      "metadata": {
        "colab": {
          "base_uri": "https://localhost:8080/"
        },
        "id": "lIeG8x8XvVOO",
        "outputId": "6e0b8a53-f6dc-4ac6-81e6-aa7d4bd9ee81"
      },
      "execution_count": 12,
      "outputs": [
        {
          "output_type": "execute_result",
          "data": {
            "text/plain": [
              "['i',\n",
              " 'me',\n",
              " 'my',\n",
              " 'myself',\n",
              " 'we',\n",
              " 'our',\n",
              " 'ours',\n",
              " 'ourselves',\n",
              " 'you',\n",
              " \"you're\",\n",
              " \"you've\",\n",
              " \"you'll\",\n",
              " \"you'd\",\n",
              " 'your',\n",
              " 'yours',\n",
              " 'yourself',\n",
              " 'yourselves',\n",
              " 'he',\n",
              " 'him',\n",
              " 'his',\n",
              " 'himself',\n",
              " 'she',\n",
              " \"she's\",\n",
              " 'her',\n",
              " 'hers',\n",
              " 'herself',\n",
              " 'it',\n",
              " \"it's\",\n",
              " 'its',\n",
              " 'itself',\n",
              " 'they',\n",
              " 'them',\n",
              " 'their',\n",
              " 'theirs',\n",
              " 'themselves',\n",
              " 'what',\n",
              " 'which',\n",
              " 'who',\n",
              " 'whom',\n",
              " 'this',\n",
              " 'that',\n",
              " \"that'll\",\n",
              " 'these',\n",
              " 'those',\n",
              " 'am',\n",
              " 'is',\n",
              " 'are',\n",
              " 'was',\n",
              " 'were',\n",
              " 'be',\n",
              " 'been',\n",
              " 'being',\n",
              " 'have',\n",
              " 'has',\n",
              " 'had',\n",
              " 'having',\n",
              " 'do',\n",
              " 'does',\n",
              " 'did',\n",
              " 'doing',\n",
              " 'a',\n",
              " 'an',\n",
              " 'the',\n",
              " 'and',\n",
              " 'but',\n",
              " 'if',\n",
              " 'or',\n",
              " 'because',\n",
              " 'as',\n",
              " 'until',\n",
              " 'while',\n",
              " 'of',\n",
              " 'at',\n",
              " 'by',\n",
              " 'for',\n",
              " 'with',\n",
              " 'about',\n",
              " 'against',\n",
              " 'between',\n",
              " 'into',\n",
              " 'through',\n",
              " 'during',\n",
              " 'before',\n",
              " 'after',\n",
              " 'above',\n",
              " 'below',\n",
              " 'to',\n",
              " 'from',\n",
              " 'up',\n",
              " 'down',\n",
              " 'in',\n",
              " 'out',\n",
              " 'on',\n",
              " 'off',\n",
              " 'over',\n",
              " 'under',\n",
              " 'again',\n",
              " 'further',\n",
              " 'then',\n",
              " 'once',\n",
              " 'here',\n",
              " 'there',\n",
              " 'when',\n",
              " 'where',\n",
              " 'why',\n",
              " 'how',\n",
              " 'all',\n",
              " 'any',\n",
              " 'both',\n",
              " 'each',\n",
              " 'few',\n",
              " 'more',\n",
              " 'most',\n",
              " 'other',\n",
              " 'some',\n",
              " 'such',\n",
              " 'no',\n",
              " 'nor',\n",
              " 'not',\n",
              " 'only',\n",
              " 'own',\n",
              " 'same',\n",
              " 'so',\n",
              " 'than',\n",
              " 'too',\n",
              " 'very',\n",
              " 's',\n",
              " 't',\n",
              " 'can',\n",
              " 'will',\n",
              " 'just',\n",
              " 'don',\n",
              " \"don't\",\n",
              " 'should',\n",
              " \"should've\",\n",
              " 'now',\n",
              " 'd',\n",
              " 'll',\n",
              " 'm',\n",
              " 'o',\n",
              " 're',\n",
              " 've',\n",
              " 'y',\n",
              " 'ain',\n",
              " 'aren',\n",
              " \"aren't\",\n",
              " 'couldn',\n",
              " \"couldn't\",\n",
              " 'didn',\n",
              " \"didn't\",\n",
              " 'doesn',\n",
              " \"doesn't\",\n",
              " 'hadn',\n",
              " \"hadn't\",\n",
              " 'hasn',\n",
              " \"hasn't\",\n",
              " 'haven',\n",
              " \"haven't\",\n",
              " 'isn',\n",
              " \"isn't\",\n",
              " 'ma',\n",
              " 'mightn',\n",
              " \"mightn't\",\n",
              " 'mustn',\n",
              " \"mustn't\",\n",
              " 'needn',\n",
              " \"needn't\",\n",
              " 'shan',\n",
              " \"shan't\",\n",
              " 'shouldn',\n",
              " \"shouldn't\",\n",
              " 'wasn',\n",
              " \"wasn't\",\n",
              " 'weren',\n",
              " \"weren't\",\n",
              " 'won',\n",
              " \"won't\",\n",
              " 'wouldn',\n",
              " \"wouldn't\"]"
            ]
          },
          "metadata": {},
          "execution_count": 12
        }
      ]
    },
    {
      "cell_type": "code",
      "source": [
        "df['stop_words_removed'] = df['punct_removed'].apply(lambda x: \" \".join(i for i in x.split() if i not in allstopwords))"
      ],
      "metadata": {
        "id": "xlAsYoY8vVKm"
      },
      "execution_count": 13,
      "outputs": []
    },
    {
      "cell_type": "code",
      "source": [
        "df.head()"
      ],
      "metadata": {
        "colab": {
          "base_uri": "https://localhost:8080/",
          "height": 771
        },
        "id": "90F8JAQFvocx",
        "outputId": "87fab7ed-9895-4467-9a3b-8534e0e5feda"
      },
      "execution_count": 14,
      "outputs": [
        {
          "output_type": "execute_result",
          "data": {
            "text/plain": [
              "                                                                                                          text  \\\n",
              "0                                             Google News is a news aggregator service developed by Google&&&.   \n",
              "1  It ^presents a continuous flow## of lonks to articles organized from thousands of publishers and magazines.   \n",
              "2                                                                            So stey taned for FURther More &&   \n",
              "3                                        Google News is **available as an app on $$Android, #iOS, and the Web.   \n",
              "4                    Google released a /beta version in <>September 2002 and the official app in January 2006.   \n",
              "\n",
              "                                                                                                         lower  \\\n",
              "0                                             google news is a news aggregator service developed by google&&&.   \n",
              "1  it ^presents a continuous flow## of lonks to articles organized from thousands of publishers and magazines.   \n",
              "2                                                                            so stey taned for further more &&   \n",
              "3                                        google news is **available as an app on $$android, #ios, and the web.   \n",
              "4                    google released a /beta version in <>september 2002 and the official app in january 2006.   \n",
              "\n",
              "                                                                                               spell_corrected  \\\n",
              "0                                                goose news is a news aggregate service developed by goose&&&.   \n",
              "1  it ^presents a continuous flow## of looks to articles organized from thousands of publishers and magazines.   \n",
              "2                                                                            so step taxed for further more &&   \n",
              "3                                            goose news is **available as an pp on $$andros, #is, and the web.   \n",
              "4                      goose released a /beta version in <>september 2002 and the official pp in january 2006.   \n",
              "\n",
              "                                                                                             punct_removed  \\\n",
              "0                                             Google News is a news aggregator service developed by Google   \n",
              "1  It presents a continuous flow of lonks to articles organized from thousands of publishers and magazines   \n",
              "2                                                                          So stey taned for FURther More    \n",
              "3                                            Google News is available as an app on Android iOS and the Web   \n",
              "4                    Google released a beta version in September 2002 and the official app in January 2006   \n",
              "\n",
              "                                                                    stop_words_removed  \n",
              "0                                 Google News news aggregator service developed Google  \n",
              "1  It presents continuous flow lonks articles organized thousands publishers magazines  \n",
              "2                                                           So stey taned FURther More  \n",
              "3                                            Google News available app Android iOS Web  \n",
              "4                Google released beta version September 2002 official app January 2006  "
            ],
            "text/html": [
              "\n",
              "  <div id=\"df-d4831844-95ac-45c8-890b-7b5bba0f2f35\">\n",
              "    <div class=\"colab-df-container\">\n",
              "      <div>\n",
              "<style scoped>\n",
              "    .dataframe tbody tr th:only-of-type {\n",
              "        vertical-align: middle;\n",
              "    }\n",
              "\n",
              "    .dataframe tbody tr th {\n",
              "        vertical-align: top;\n",
              "    }\n",
              "\n",
              "    .dataframe thead th {\n",
              "        text-align: right;\n",
              "    }\n",
              "</style>\n",
              "<table border=\"1\" class=\"dataframe\">\n",
              "  <thead>\n",
              "    <tr style=\"text-align: right;\">\n",
              "      <th></th>\n",
              "      <th>text</th>\n",
              "      <th>lower</th>\n",
              "      <th>spell_corrected</th>\n",
              "      <th>punct_removed</th>\n",
              "      <th>stop_words_removed</th>\n",
              "    </tr>\n",
              "  </thead>\n",
              "  <tbody>\n",
              "    <tr>\n",
              "      <th>0</th>\n",
              "      <td>Google News is a news aggregator service developed by Google&amp;&amp;&amp;.</td>\n",
              "      <td>google news is a news aggregator service developed by google&amp;&amp;&amp;.</td>\n",
              "      <td>goose news is a news aggregate service developed by goose&amp;&amp;&amp;.</td>\n",
              "      <td>Google News is a news aggregator service developed by Google</td>\n",
              "      <td>Google News news aggregator service developed Google</td>\n",
              "    </tr>\n",
              "    <tr>\n",
              "      <th>1</th>\n",
              "      <td>It ^presents a continuous flow## of lonks to articles organized from thousands of publishers and magazines.</td>\n",
              "      <td>it ^presents a continuous flow## of lonks to articles organized from thousands of publishers and magazines.</td>\n",
              "      <td>it ^presents a continuous flow## of looks to articles organized from thousands of publishers and magazines.</td>\n",
              "      <td>It presents a continuous flow of lonks to articles organized from thousands of publishers and magazines</td>\n",
              "      <td>It presents continuous flow lonks articles organized thousands publishers magazines</td>\n",
              "    </tr>\n",
              "    <tr>\n",
              "      <th>2</th>\n",
              "      <td>So stey taned for FURther More &amp;&amp;</td>\n",
              "      <td>so stey taned for further more &amp;&amp;</td>\n",
              "      <td>so step taxed for further more &amp;&amp;</td>\n",
              "      <td>So stey taned for FURther More</td>\n",
              "      <td>So stey taned FURther More</td>\n",
              "    </tr>\n",
              "    <tr>\n",
              "      <th>3</th>\n",
              "      <td>Google News is **available as an app on $$Android, #iOS, and the Web.</td>\n",
              "      <td>google news is **available as an app on $$android, #ios, and the web.</td>\n",
              "      <td>goose news is **available as an pp on $$andros, #is, and the web.</td>\n",
              "      <td>Google News is available as an app on Android iOS and the Web</td>\n",
              "      <td>Google News available app Android iOS Web</td>\n",
              "    </tr>\n",
              "    <tr>\n",
              "      <th>4</th>\n",
              "      <td>Google released a /beta version in &lt;&gt;September 2002 and the official app in January 2006.</td>\n",
              "      <td>google released a /beta version in &lt;&gt;september 2002 and the official app in january 2006.</td>\n",
              "      <td>goose released a /beta version in &lt;&gt;september 2002 and the official pp in january 2006.</td>\n",
              "      <td>Google released a beta version in September 2002 and the official app in January 2006</td>\n",
              "      <td>Google released beta version September 2002 official app January 2006</td>\n",
              "    </tr>\n",
              "  </tbody>\n",
              "</table>\n",
              "</div>\n",
              "      <button class=\"colab-df-convert\" onclick=\"convertToInteractive('df-d4831844-95ac-45c8-890b-7b5bba0f2f35')\"\n",
              "              title=\"Convert this dataframe to an interactive table.\"\n",
              "              style=\"display:none;\">\n",
              "        \n",
              "  <svg xmlns=\"http://www.w3.org/2000/svg\" height=\"24px\"viewBox=\"0 0 24 24\"\n",
              "       width=\"24px\">\n",
              "    <path d=\"M0 0h24v24H0V0z\" fill=\"none\"/>\n",
              "    <path d=\"M18.56 5.44l.94 2.06.94-2.06 2.06-.94-2.06-.94-.94-2.06-.94 2.06-2.06.94zm-11 1L8.5 8.5l.94-2.06 2.06-.94-2.06-.94L8.5 2.5l-.94 2.06-2.06.94zm10 10l.94 2.06.94-2.06 2.06-.94-2.06-.94-.94-2.06-.94 2.06-2.06.94z\"/><path d=\"M17.41 7.96l-1.37-1.37c-.4-.4-.92-.59-1.43-.59-.52 0-1.04.2-1.43.59L10.3 9.45l-7.72 7.72c-.78.78-.78 2.05 0 2.83L4 21.41c.39.39.9.59 1.41.59.51 0 1.02-.2 1.41-.59l7.78-7.78 2.81-2.81c.8-.78.8-2.07 0-2.86zM5.41 20L4 18.59l7.72-7.72 1.47 1.35L5.41 20z\"/>\n",
              "  </svg>\n",
              "      </button>\n",
              "      \n",
              "  <style>\n",
              "    .colab-df-container {\n",
              "      display:flex;\n",
              "      flex-wrap:wrap;\n",
              "      gap: 12px;\n",
              "    }\n",
              "\n",
              "    .colab-df-convert {\n",
              "      background-color: #E8F0FE;\n",
              "      border: none;\n",
              "      border-radius: 50%;\n",
              "      cursor: pointer;\n",
              "      display: none;\n",
              "      fill: #1967D2;\n",
              "      height: 32px;\n",
              "      padding: 0 0 0 0;\n",
              "      width: 32px;\n",
              "    }\n",
              "\n",
              "    .colab-df-convert:hover {\n",
              "      background-color: #E2EBFA;\n",
              "      box-shadow: 0px 1px 2px rgba(60, 64, 67, 0.3), 0px 1px 3px 1px rgba(60, 64, 67, 0.15);\n",
              "      fill: #174EA6;\n",
              "    }\n",
              "\n",
              "    [theme=dark] .colab-df-convert {\n",
              "      background-color: #3B4455;\n",
              "      fill: #D2E3FC;\n",
              "    }\n",
              "\n",
              "    [theme=dark] .colab-df-convert:hover {\n",
              "      background-color: #434B5C;\n",
              "      box-shadow: 0px 1px 3px 1px rgba(0, 0, 0, 0.15);\n",
              "      filter: drop-shadow(0px 1px 2px rgba(0, 0, 0, 0.3));\n",
              "      fill: #FFFFFF;\n",
              "    }\n",
              "  </style>\n",
              "\n",
              "      <script>\n",
              "        const buttonEl =\n",
              "          document.querySelector('#df-d4831844-95ac-45c8-890b-7b5bba0f2f35 button.colab-df-convert');\n",
              "        buttonEl.style.display =\n",
              "          google.colab.kernel.accessAllowed ? 'block' : 'none';\n",
              "\n",
              "        async function convertToInteractive(key) {\n",
              "          const element = document.querySelector('#df-d4831844-95ac-45c8-890b-7b5bba0f2f35');\n",
              "          const dataTable =\n",
              "            await google.colab.kernel.invokeFunction('convertToInteractive',\n",
              "                                                     [key], {});\n",
              "          if (!dataTable) return;\n",
              "\n",
              "          const docLinkHtml = 'Like what you see? Visit the ' +\n",
              "            '<a target=\"_blank\" href=https://colab.research.google.com/notebooks/data_table.ipynb>data table notebook</a>'\n",
              "            + ' to learn more about interactive tables.';\n",
              "          element.innerHTML = '';\n",
              "          dataTable['output_type'] = 'display_data';\n",
              "          await google.colab.output.renderOutput(dataTable, element);\n",
              "          const docLink = document.createElement('div');\n",
              "          docLink.innerHTML = docLinkHtml;\n",
              "          element.appendChild(docLink);\n",
              "        }\n",
              "      </script>\n",
              "    </div>\n",
              "  </div>\n",
              "  "
            ]
          },
          "metadata": {},
          "execution_count": 14
        }
      ]
    },
    {
      "cell_type": "markdown",
      "source": [
        "**Tokenization**"
      ],
      "metadata": {
        "id": "EVwg7gqTx6y7"
      }
    },
    {
      "cell_type": "code",
      "source": [
        "nltk.download('punkt')"
      ],
      "metadata": {
        "colab": {
          "base_uri": "https://localhost:8080/"
        },
        "id": "Dn-cAmMiySzk",
        "outputId": "7d6c317c-e968-4c16-aa69-7382956c054f"
      },
      "execution_count": 15,
      "outputs": [
        {
          "output_type": "stream",
          "name": "stderr",
          "text": [
            "[nltk_data] Downloading package punkt to /root/nltk_data...\n",
            "[nltk_data]   Unzipping tokenizers/punkt.zip.\n"
          ]
        },
        {
          "output_type": "execute_result",
          "data": {
            "text/plain": [
              "True"
            ]
          },
          "metadata": {},
          "execution_count": 15
        }
      ]
    },
    {
      "cell_type": "markdown",
      "source": [
        "**Word Tokenize**"
      ],
      "metadata": {
        "id": "XqFXbZw-yiLq"
      }
    },
    {
      "cell_type": "code",
      "source": [
        "s = \"Google released a beta version in September 2002 and the official app in January 2006.\"\n",
        "nltk.word_tokenize(s)"
      ],
      "metadata": {
        "colab": {
          "base_uri": "https://localhost:8080/"
        },
        "id": "v5hPOYh0wi1V",
        "outputId": "2abb3f5d-380f-40b2-d6ef-f4c0e1e6c3f7"
      },
      "execution_count": 16,
      "outputs": [
        {
          "output_type": "execute_result",
          "data": {
            "text/plain": [
              "['Google',\n",
              " 'released',\n",
              " 'a',\n",
              " 'beta',\n",
              " 'version',\n",
              " 'in',\n",
              " 'September',\n",
              " '2002',\n",
              " 'and',\n",
              " 'the',\n",
              " 'official',\n",
              " 'app',\n",
              " 'in',\n",
              " 'January',\n",
              " '2006',\n",
              " '.']"
            ]
          },
          "metadata": {},
          "execution_count": 16
        }
      ]
    },
    {
      "cell_type": "markdown",
      "source": [
        "**Sentence Tokenize**"
      ],
      "metadata": {
        "id": "6gMoKxdKymrp"
      }
    },
    {
      "cell_type": "code",
      "source": [
        "from nltk.tokenize import sent_tokenize"
      ],
      "metadata": {
        "id": "fS_ud-Tfyo_p"
      },
      "execution_count": 17,
      "outputs": []
    },
    {
      "cell_type": "code",
      "source": [
        "text = \"\"\"Founded in 2002, SpaceX’s mission is to enable humans to become a space faring. Civilization and a multi-planet species by building a self-sustaining city on Mars. In 2008, SpaceX’s Falcon 1 became the first privately developed liquid-fuel launch vehicle to orbit the Earth.\"\"\"\n",
        "sent_tokenize(text)"
      ],
      "metadata": {
        "colab": {
          "base_uri": "https://localhost:8080/"
        },
        "id": "1Va8OgdtyrPr",
        "outputId": "2c3e7002-50e1-487d-e7b5-6436ea2d8524"
      },
      "execution_count": 18,
      "outputs": [
        {
          "output_type": "execute_result",
          "data": {
            "text/plain": [
              "['Founded in 2002, SpaceX’s mission is to enable humans to become a space faring.',\n",
              " 'Civilization and a multi-planet species by building a self-sustaining city on Mars.',\n",
              " 'In 2008, SpaceX’s Falcon 1 became the first privately developed liquid-fuel launch vehicle to orbit the Earth.']"
            ]
          },
          "metadata": {},
          "execution_count": 18
        }
      ]
    },
    {
      "cell_type": "markdown",
      "source": [
        "**Stemming**"
      ],
      "metadata": {
        "id": "bY37vL61zI1K"
      }
    },
    {
      "cell_type": "code",
      "source": [
        "from nltk.stem import PorterStemmer\n",
        "st = PorterStemmer()"
      ],
      "metadata": {
        "id": "XuN2r7r8zH4t"
      },
      "execution_count": 19,
      "outputs": []
    },
    {
      "cell_type": "code",
      "source": [
        "df['Stemmed'] = df['punct_removed'].apply(lambda x:\" \".join([st.stem(word) for word in x.split()]))"
      ],
      "metadata": {
        "id": "l5QDiH6KzIB_"
      },
      "execution_count": 20,
      "outputs": []
    },
    {
      "cell_type": "code",
      "source": [
        "df.head()"
      ],
      "metadata": {
        "colab": {
          "base_uri": "https://localhost:8080/",
          "height": 912
        },
        "id": "PPQ-mtWczon8",
        "outputId": "78de96df-8888-4412-bf32-47d2b833e375"
      },
      "execution_count": 21,
      "outputs": [
        {
          "output_type": "execute_result",
          "data": {
            "text/plain": [
              "                                                                                                          text  \\\n",
              "0                                             Google News is a news aggregator service developed by Google&&&.   \n",
              "1  It ^presents a continuous flow## of lonks to articles organized from thousands of publishers and magazines.   \n",
              "2                                                                            So stey taned for FURther More &&   \n",
              "3                                        Google News is **available as an app on $$Android, #iOS, and the Web.   \n",
              "4                    Google released a /beta version in <>September 2002 and the official app in January 2006.   \n",
              "\n",
              "                                                                                                         lower  \\\n",
              "0                                             google news is a news aggregator service developed by google&&&.   \n",
              "1  it ^presents a continuous flow## of lonks to articles organized from thousands of publishers and magazines.   \n",
              "2                                                                            so stey taned for further more &&   \n",
              "3                                        google news is **available as an app on $$android, #ios, and the web.   \n",
              "4                    google released a /beta version in <>september 2002 and the official app in january 2006.   \n",
              "\n",
              "                                                                                               spell_corrected  \\\n",
              "0                                                goose news is a news aggregate service developed by goose&&&.   \n",
              "1  it ^presents a continuous flow## of looks to articles organized from thousands of publishers and magazines.   \n",
              "2                                                                            so step taxed for further more &&   \n",
              "3                                            goose news is **available as an pp on $$andros, #is, and the web.   \n",
              "4                      goose released a /beta version in <>september 2002 and the official pp in january 2006.   \n",
              "\n",
              "                                                                                             punct_removed  \\\n",
              "0                                             Google News is a news aggregator service developed by Google   \n",
              "1  It presents a continuous flow of lonks to articles organized from thousands of publishers and magazines   \n",
              "2                                                                          So stey taned for FURther More    \n",
              "3                                            Google News is available as an app on Android iOS and the Web   \n",
              "4                    Google released a beta version in September 2002 and the official app in January 2006   \n",
              "\n",
              "                                                                    stop_words_removed  \\\n",
              "0                                 Google News news aggregator service developed Google   \n",
              "1  It presents continuous flow lonks articles organized thousands publishers magazines   \n",
              "2                                                           So stey taned FURther More   \n",
              "3                                            Google News available app Android iOS Web   \n",
              "4                Google released beta version September 2002 official app January 2006   \n",
              "\n",
              "                                                                                  Stemmed  \n",
              "0                                      googl new is a news aggreg servic develop by googl  \n",
              "1  it present a continu flow of lonk to articl organ from thousand of publish and magazin  \n",
              "2                                                           so stey tane for further more  \n",
              "3                                  googl new is avail as an app on android io and the web  \n",
              "4          googl releas a beta version in septemb 2002 and the offici app in januari 2006  "
            ],
            "text/html": [
              "\n",
              "  <div id=\"df-6e9fbb80-df31-444d-8892-4b258bc2a37e\">\n",
              "    <div class=\"colab-df-container\">\n",
              "      <div>\n",
              "<style scoped>\n",
              "    .dataframe tbody tr th:only-of-type {\n",
              "        vertical-align: middle;\n",
              "    }\n",
              "\n",
              "    .dataframe tbody tr th {\n",
              "        vertical-align: top;\n",
              "    }\n",
              "\n",
              "    .dataframe thead th {\n",
              "        text-align: right;\n",
              "    }\n",
              "</style>\n",
              "<table border=\"1\" class=\"dataframe\">\n",
              "  <thead>\n",
              "    <tr style=\"text-align: right;\">\n",
              "      <th></th>\n",
              "      <th>text</th>\n",
              "      <th>lower</th>\n",
              "      <th>spell_corrected</th>\n",
              "      <th>punct_removed</th>\n",
              "      <th>stop_words_removed</th>\n",
              "      <th>Stemmed</th>\n",
              "    </tr>\n",
              "  </thead>\n",
              "  <tbody>\n",
              "    <tr>\n",
              "      <th>0</th>\n",
              "      <td>Google News is a news aggregator service developed by Google&amp;&amp;&amp;.</td>\n",
              "      <td>google news is a news aggregator service developed by google&amp;&amp;&amp;.</td>\n",
              "      <td>goose news is a news aggregate service developed by goose&amp;&amp;&amp;.</td>\n",
              "      <td>Google News is a news aggregator service developed by Google</td>\n",
              "      <td>Google News news aggregator service developed Google</td>\n",
              "      <td>googl new is a news aggreg servic develop by googl</td>\n",
              "    </tr>\n",
              "    <tr>\n",
              "      <th>1</th>\n",
              "      <td>It ^presents a continuous flow## of lonks to articles organized from thousands of publishers and magazines.</td>\n",
              "      <td>it ^presents a continuous flow## of lonks to articles organized from thousands of publishers and magazines.</td>\n",
              "      <td>it ^presents a continuous flow## of looks to articles organized from thousands of publishers and magazines.</td>\n",
              "      <td>It presents a continuous flow of lonks to articles organized from thousands of publishers and magazines</td>\n",
              "      <td>It presents continuous flow lonks articles organized thousands publishers magazines</td>\n",
              "      <td>it present a continu flow of lonk to articl organ from thousand of publish and magazin</td>\n",
              "    </tr>\n",
              "    <tr>\n",
              "      <th>2</th>\n",
              "      <td>So stey taned for FURther More &amp;&amp;</td>\n",
              "      <td>so stey taned for further more &amp;&amp;</td>\n",
              "      <td>so step taxed for further more &amp;&amp;</td>\n",
              "      <td>So stey taned for FURther More</td>\n",
              "      <td>So stey taned FURther More</td>\n",
              "      <td>so stey tane for further more</td>\n",
              "    </tr>\n",
              "    <tr>\n",
              "      <th>3</th>\n",
              "      <td>Google News is **available as an app on $$Android, #iOS, and the Web.</td>\n",
              "      <td>google news is **available as an app on $$android, #ios, and the web.</td>\n",
              "      <td>goose news is **available as an pp on $$andros, #is, and the web.</td>\n",
              "      <td>Google News is available as an app on Android iOS and the Web</td>\n",
              "      <td>Google News available app Android iOS Web</td>\n",
              "      <td>googl new is avail as an app on android io and the web</td>\n",
              "    </tr>\n",
              "    <tr>\n",
              "      <th>4</th>\n",
              "      <td>Google released a /beta version in &lt;&gt;September 2002 and the official app in January 2006.</td>\n",
              "      <td>google released a /beta version in &lt;&gt;september 2002 and the official app in january 2006.</td>\n",
              "      <td>goose released a /beta version in &lt;&gt;september 2002 and the official pp in january 2006.</td>\n",
              "      <td>Google released a beta version in September 2002 and the official app in January 2006</td>\n",
              "      <td>Google released beta version September 2002 official app January 2006</td>\n",
              "      <td>googl releas a beta version in septemb 2002 and the offici app in januari 2006</td>\n",
              "    </tr>\n",
              "  </tbody>\n",
              "</table>\n",
              "</div>\n",
              "      <button class=\"colab-df-convert\" onclick=\"convertToInteractive('df-6e9fbb80-df31-444d-8892-4b258bc2a37e')\"\n",
              "              title=\"Convert this dataframe to an interactive table.\"\n",
              "              style=\"display:none;\">\n",
              "        \n",
              "  <svg xmlns=\"http://www.w3.org/2000/svg\" height=\"24px\"viewBox=\"0 0 24 24\"\n",
              "       width=\"24px\">\n",
              "    <path d=\"M0 0h24v24H0V0z\" fill=\"none\"/>\n",
              "    <path d=\"M18.56 5.44l.94 2.06.94-2.06 2.06-.94-2.06-.94-.94-2.06-.94 2.06-2.06.94zm-11 1L8.5 8.5l.94-2.06 2.06-.94-2.06-.94L8.5 2.5l-.94 2.06-2.06.94zm10 10l.94 2.06.94-2.06 2.06-.94-2.06-.94-.94-2.06-.94 2.06-2.06.94z\"/><path d=\"M17.41 7.96l-1.37-1.37c-.4-.4-.92-.59-1.43-.59-.52 0-1.04.2-1.43.59L10.3 9.45l-7.72 7.72c-.78.78-.78 2.05 0 2.83L4 21.41c.39.39.9.59 1.41.59.51 0 1.02-.2 1.41-.59l7.78-7.78 2.81-2.81c.8-.78.8-2.07 0-2.86zM5.41 20L4 18.59l7.72-7.72 1.47 1.35L5.41 20z\"/>\n",
              "  </svg>\n",
              "      </button>\n",
              "      \n",
              "  <style>\n",
              "    .colab-df-container {\n",
              "      display:flex;\n",
              "      flex-wrap:wrap;\n",
              "      gap: 12px;\n",
              "    }\n",
              "\n",
              "    .colab-df-convert {\n",
              "      background-color: #E8F0FE;\n",
              "      border: none;\n",
              "      border-radius: 50%;\n",
              "      cursor: pointer;\n",
              "      display: none;\n",
              "      fill: #1967D2;\n",
              "      height: 32px;\n",
              "      padding: 0 0 0 0;\n",
              "      width: 32px;\n",
              "    }\n",
              "\n",
              "    .colab-df-convert:hover {\n",
              "      background-color: #E2EBFA;\n",
              "      box-shadow: 0px 1px 2px rgba(60, 64, 67, 0.3), 0px 1px 3px 1px rgba(60, 64, 67, 0.15);\n",
              "      fill: #174EA6;\n",
              "    }\n",
              "\n",
              "    [theme=dark] .colab-df-convert {\n",
              "      background-color: #3B4455;\n",
              "      fill: #D2E3FC;\n",
              "    }\n",
              "\n",
              "    [theme=dark] .colab-df-convert:hover {\n",
              "      background-color: #434B5C;\n",
              "      box-shadow: 0px 1px 3px 1px rgba(0, 0, 0, 0.15);\n",
              "      filter: drop-shadow(0px 1px 2px rgba(0, 0, 0, 0.3));\n",
              "      fill: #FFFFFF;\n",
              "    }\n",
              "  </style>\n",
              "\n",
              "      <script>\n",
              "        const buttonEl =\n",
              "          document.querySelector('#df-6e9fbb80-df31-444d-8892-4b258bc2a37e button.colab-df-convert');\n",
              "        buttonEl.style.display =\n",
              "          google.colab.kernel.accessAllowed ? 'block' : 'none';\n",
              "\n",
              "        async function convertToInteractive(key) {\n",
              "          const element = document.querySelector('#df-6e9fbb80-df31-444d-8892-4b258bc2a37e');\n",
              "          const dataTable =\n",
              "            await google.colab.kernel.invokeFunction('convertToInteractive',\n",
              "                                                     [key], {});\n",
              "          if (!dataTable) return;\n",
              "\n",
              "          const docLinkHtml = 'Like what you see? Visit the ' +\n",
              "            '<a target=\"_blank\" href=https://colab.research.google.com/notebooks/data_table.ipynb>data table notebook</a>'\n",
              "            + ' to learn more about interactive tables.';\n",
              "          element.innerHTML = '';\n",
              "          dataTable['output_type'] = 'display_data';\n",
              "          await google.colab.output.renderOutput(dataTable, element);\n",
              "          const docLink = document.createElement('div');\n",
              "          docLink.innerHTML = docLinkHtml;\n",
              "          element.appendChild(docLink);\n",
              "        }\n",
              "      </script>\n",
              "    </div>\n",
              "  </div>\n",
              "  "
            ]
          },
          "metadata": {},
          "execution_count": 21
        }
      ]
    },
    {
      "cell_type": "markdown",
      "source": [
        "**lemmatization**"
      ],
      "metadata": {
        "id": "sidCg_Jaz2Lq"
      }
    },
    {
      "cell_type": "code",
      "source": [
        "nltk.download('wordnet')"
      ],
      "metadata": {
        "colab": {
          "base_uri": "https://localhost:8080/"
        },
        "id": "5S9pd5Ai1FKk",
        "outputId": "aa9ec765-af78-45ef-e75f-fddece7e6771"
      },
      "execution_count": 22,
      "outputs": [
        {
          "output_type": "stream",
          "name": "stderr",
          "text": [
            "[nltk_data] Downloading package wordnet to /root/nltk_data...\n"
          ]
        },
        {
          "output_type": "execute_result",
          "data": {
            "text/plain": [
              "True"
            ]
          },
          "metadata": {},
          "execution_count": 22
        }
      ]
    },
    {
      "cell_type": "code",
      "source": [
        "from nltk.stem import WordNetLemmatizer\n",
        "  \n",
        "lemmatizer = WordNetLemmatizer()"
      ],
      "metadata": {
        "id": "T_kJxc_xzdRV"
      },
      "execution_count": 23,
      "outputs": []
    },
    {
      "cell_type": "code",
      "source": [
        "nltk.download('omw-1.4')"
      ],
      "metadata": {
        "colab": {
          "base_uri": "https://localhost:8080/"
        },
        "id": "Cg4hsSk62HZE",
        "outputId": "b36fa0ef-b87b-44b9-ed45-47d436ba38db"
      },
      "execution_count": 24,
      "outputs": [
        {
          "output_type": "stream",
          "name": "stderr",
          "text": [
            "[nltk_data] Downloading package omw-1.4 to /root/nltk_data...\n"
          ]
        },
        {
          "output_type": "execute_result",
          "data": {
            "text/plain": [
              "True"
            ]
          },
          "metadata": {},
          "execution_count": 24
        }
      ]
    },
    {
      "cell_type": "code",
      "source": [
        "df['Lemma'] = df['punct_removed'].apply(lambda x:\" \".join([lemmatizer.lemmatize(word) for word in x.split()]))"
      ],
      "metadata": {
        "id": "rqnzxhWz0s0k"
      },
      "execution_count": 25,
      "outputs": []
    },
    {
      "cell_type": "code",
      "source": [
        "df.head()"
      ],
      "metadata": {
        "colab": {
          "base_uri": "https://localhost:8080/",
          "height": 930
        },
        "id": "R67iW6kk0s3A",
        "outputId": "79c340fa-e8dd-42c0-aa6f-ec3962df9b0c"
      },
      "execution_count": 26,
      "outputs": [
        {
          "output_type": "execute_result",
          "data": {
            "text/plain": [
              "                                                                                                          text  \\\n",
              "0                                             Google News is a news aggregator service developed by Google&&&.   \n",
              "1  It ^presents a continuous flow## of lonks to articles organized from thousands of publishers and magazines.   \n",
              "2                                                                            So stey taned for FURther More &&   \n",
              "3                                        Google News is **available as an app on $$Android, #iOS, and the Web.   \n",
              "4                    Google released a /beta version in <>September 2002 and the official app in January 2006.   \n",
              "\n",
              "                                                                                                         lower  \\\n",
              "0                                             google news is a news aggregator service developed by google&&&.   \n",
              "1  it ^presents a continuous flow## of lonks to articles organized from thousands of publishers and magazines.   \n",
              "2                                                                            so stey taned for further more &&   \n",
              "3                                        google news is **available as an app on $$android, #ios, and the web.   \n",
              "4                    google released a /beta version in <>september 2002 and the official app in january 2006.   \n",
              "\n",
              "                                                                                               spell_corrected  \\\n",
              "0                                                goose news is a news aggregate service developed by goose&&&.   \n",
              "1  it ^presents a continuous flow## of looks to articles organized from thousands of publishers and magazines.   \n",
              "2                                                                            so step taxed for further more &&   \n",
              "3                                            goose news is **available as an pp on $$andros, #is, and the web.   \n",
              "4                      goose released a /beta version in <>september 2002 and the official pp in january 2006.   \n",
              "\n",
              "                                                                                             punct_removed  \\\n",
              "0                                             Google News is a news aggregator service developed by Google   \n",
              "1  It presents a continuous flow of lonks to articles organized from thousands of publishers and magazines   \n",
              "2                                                                          So stey taned for FURther More    \n",
              "3                                            Google News is available as an app on Android iOS and the Web   \n",
              "4                    Google released a beta version in September 2002 and the official app in January 2006   \n",
              "\n",
              "                                                                    stop_words_removed  \\\n",
              "0                                 Google News news aggregator service developed Google   \n",
              "1  It presents continuous flow lonks articles organized thousands publishers magazines   \n",
              "2                                                           So stey taned FURther More   \n",
              "3                                            Google News available app Android iOS Web   \n",
              "4                Google released beta version September 2002 official app January 2006   \n",
              "\n",
              "                                                                                  Stemmed  \\\n",
              "0                                      googl new is a news aggreg servic develop by googl   \n",
              "1  it present a continu flow of lonk to articl organ from thousand of publish and magazin   \n",
              "2                                                           so stey tane for further more   \n",
              "3                                  googl new is avail as an app on android io and the web   \n",
              "4          googl releas a beta version in septemb 2002 and the offici app in januari 2006   \n",
              "\n",
              "                                                                                                Lemma  \n",
              "0                                        Google News is a news aggregator service developed by Google  \n",
              "1  It present a continuous flow of lonks to article organized from thousand of publisher and magazine  \n",
              "2                                                                      So stey taned for FURther More  \n",
              "3                                        Google News is available a an app on Android iOS and the Web  \n",
              "4               Google released a beta version in September 2002 and the official app in January 2006  "
            ],
            "text/html": [
              "\n",
              "  <div id=\"df-b25e1d78-3b91-419c-89f9-c2ddbc0a0951\">\n",
              "    <div class=\"colab-df-container\">\n",
              "      <div>\n",
              "<style scoped>\n",
              "    .dataframe tbody tr th:only-of-type {\n",
              "        vertical-align: middle;\n",
              "    }\n",
              "\n",
              "    .dataframe tbody tr th {\n",
              "        vertical-align: top;\n",
              "    }\n",
              "\n",
              "    .dataframe thead th {\n",
              "        text-align: right;\n",
              "    }\n",
              "</style>\n",
              "<table border=\"1\" class=\"dataframe\">\n",
              "  <thead>\n",
              "    <tr style=\"text-align: right;\">\n",
              "      <th></th>\n",
              "      <th>text</th>\n",
              "      <th>lower</th>\n",
              "      <th>spell_corrected</th>\n",
              "      <th>punct_removed</th>\n",
              "      <th>stop_words_removed</th>\n",
              "      <th>Stemmed</th>\n",
              "      <th>Lemma</th>\n",
              "    </tr>\n",
              "  </thead>\n",
              "  <tbody>\n",
              "    <tr>\n",
              "      <th>0</th>\n",
              "      <td>Google News is a news aggregator service developed by Google&amp;&amp;&amp;.</td>\n",
              "      <td>google news is a news aggregator service developed by google&amp;&amp;&amp;.</td>\n",
              "      <td>goose news is a news aggregate service developed by goose&amp;&amp;&amp;.</td>\n",
              "      <td>Google News is a news aggregator service developed by Google</td>\n",
              "      <td>Google News news aggregator service developed Google</td>\n",
              "      <td>googl new is a news aggreg servic develop by googl</td>\n",
              "      <td>Google News is a news aggregator service developed by Google</td>\n",
              "    </tr>\n",
              "    <tr>\n",
              "      <th>1</th>\n",
              "      <td>It ^presents a continuous flow## of lonks to articles organized from thousands of publishers and magazines.</td>\n",
              "      <td>it ^presents a continuous flow## of lonks to articles organized from thousands of publishers and magazines.</td>\n",
              "      <td>it ^presents a continuous flow## of looks to articles organized from thousands of publishers and magazines.</td>\n",
              "      <td>It presents a continuous flow of lonks to articles organized from thousands of publishers and magazines</td>\n",
              "      <td>It presents continuous flow lonks articles organized thousands publishers magazines</td>\n",
              "      <td>it present a continu flow of lonk to articl organ from thousand of publish and magazin</td>\n",
              "      <td>It present a continuous flow of lonks to article organized from thousand of publisher and magazine</td>\n",
              "    </tr>\n",
              "    <tr>\n",
              "      <th>2</th>\n",
              "      <td>So stey taned for FURther More &amp;&amp;</td>\n",
              "      <td>so stey taned for further more &amp;&amp;</td>\n",
              "      <td>so step taxed for further more &amp;&amp;</td>\n",
              "      <td>So stey taned for FURther More</td>\n",
              "      <td>So stey taned FURther More</td>\n",
              "      <td>so stey tane for further more</td>\n",
              "      <td>So stey taned for FURther More</td>\n",
              "    </tr>\n",
              "    <tr>\n",
              "      <th>3</th>\n",
              "      <td>Google News is **available as an app on $$Android, #iOS, and the Web.</td>\n",
              "      <td>google news is **available as an app on $$android, #ios, and the web.</td>\n",
              "      <td>goose news is **available as an pp on $$andros, #is, and the web.</td>\n",
              "      <td>Google News is available as an app on Android iOS and the Web</td>\n",
              "      <td>Google News available app Android iOS Web</td>\n",
              "      <td>googl new is avail as an app on android io and the web</td>\n",
              "      <td>Google News is available a an app on Android iOS and the Web</td>\n",
              "    </tr>\n",
              "    <tr>\n",
              "      <th>4</th>\n",
              "      <td>Google released a /beta version in &lt;&gt;September 2002 and the official app in January 2006.</td>\n",
              "      <td>google released a /beta version in &lt;&gt;september 2002 and the official app in january 2006.</td>\n",
              "      <td>goose released a /beta version in &lt;&gt;september 2002 and the official pp in january 2006.</td>\n",
              "      <td>Google released a beta version in September 2002 and the official app in January 2006</td>\n",
              "      <td>Google released beta version September 2002 official app January 2006</td>\n",
              "      <td>googl releas a beta version in septemb 2002 and the offici app in januari 2006</td>\n",
              "      <td>Google released a beta version in September 2002 and the official app in January 2006</td>\n",
              "    </tr>\n",
              "  </tbody>\n",
              "</table>\n",
              "</div>\n",
              "      <button class=\"colab-df-convert\" onclick=\"convertToInteractive('df-b25e1d78-3b91-419c-89f9-c2ddbc0a0951')\"\n",
              "              title=\"Convert this dataframe to an interactive table.\"\n",
              "              style=\"display:none;\">\n",
              "        \n",
              "  <svg xmlns=\"http://www.w3.org/2000/svg\" height=\"24px\"viewBox=\"0 0 24 24\"\n",
              "       width=\"24px\">\n",
              "    <path d=\"M0 0h24v24H0V0z\" fill=\"none\"/>\n",
              "    <path d=\"M18.56 5.44l.94 2.06.94-2.06 2.06-.94-2.06-.94-.94-2.06-.94 2.06-2.06.94zm-11 1L8.5 8.5l.94-2.06 2.06-.94-2.06-.94L8.5 2.5l-.94 2.06-2.06.94zm10 10l.94 2.06.94-2.06 2.06-.94-2.06-.94-.94-2.06-.94 2.06-2.06.94z\"/><path d=\"M17.41 7.96l-1.37-1.37c-.4-.4-.92-.59-1.43-.59-.52 0-1.04.2-1.43.59L10.3 9.45l-7.72 7.72c-.78.78-.78 2.05 0 2.83L4 21.41c.39.39.9.59 1.41.59.51 0 1.02-.2 1.41-.59l7.78-7.78 2.81-2.81c.8-.78.8-2.07 0-2.86zM5.41 20L4 18.59l7.72-7.72 1.47 1.35L5.41 20z\"/>\n",
              "  </svg>\n",
              "      </button>\n",
              "      \n",
              "  <style>\n",
              "    .colab-df-container {\n",
              "      display:flex;\n",
              "      flex-wrap:wrap;\n",
              "      gap: 12px;\n",
              "    }\n",
              "\n",
              "    .colab-df-convert {\n",
              "      background-color: #E8F0FE;\n",
              "      border: none;\n",
              "      border-radius: 50%;\n",
              "      cursor: pointer;\n",
              "      display: none;\n",
              "      fill: #1967D2;\n",
              "      height: 32px;\n",
              "      padding: 0 0 0 0;\n",
              "      width: 32px;\n",
              "    }\n",
              "\n",
              "    .colab-df-convert:hover {\n",
              "      background-color: #E2EBFA;\n",
              "      box-shadow: 0px 1px 2px rgba(60, 64, 67, 0.3), 0px 1px 3px 1px rgba(60, 64, 67, 0.15);\n",
              "      fill: #174EA6;\n",
              "    }\n",
              "\n",
              "    [theme=dark] .colab-df-convert {\n",
              "      background-color: #3B4455;\n",
              "      fill: #D2E3FC;\n",
              "    }\n",
              "\n",
              "    [theme=dark] .colab-df-convert:hover {\n",
              "      background-color: #434B5C;\n",
              "      box-shadow: 0px 1px 3px 1px rgba(0, 0, 0, 0.15);\n",
              "      filter: drop-shadow(0px 1px 2px rgba(0, 0, 0, 0.3));\n",
              "      fill: #FFFFFF;\n",
              "    }\n",
              "  </style>\n",
              "\n",
              "      <script>\n",
              "        const buttonEl =\n",
              "          document.querySelector('#df-b25e1d78-3b91-419c-89f9-c2ddbc0a0951 button.colab-df-convert');\n",
              "        buttonEl.style.display =\n",
              "          google.colab.kernel.accessAllowed ? 'block' : 'none';\n",
              "\n",
              "        async function convertToInteractive(key) {\n",
              "          const element = document.querySelector('#df-b25e1d78-3b91-419c-89f9-c2ddbc0a0951');\n",
              "          const dataTable =\n",
              "            await google.colab.kernel.invokeFunction('convertToInteractive',\n",
              "                                                     [key], {});\n",
              "          if (!dataTable) return;\n",
              "\n",
              "          const docLinkHtml = 'Like what you see? Visit the ' +\n",
              "            '<a target=\"_blank\" href=https://colab.research.google.com/notebooks/data_table.ipynb>data table notebook</a>'\n",
              "            + ' to learn more about interactive tables.';\n",
              "          element.innerHTML = '';\n",
              "          dataTable['output_type'] = 'display_data';\n",
              "          await google.colab.output.renderOutput(dataTable, element);\n",
              "          const docLink = document.createElement('div');\n",
              "          docLink.innerHTML = docLinkHtml;\n",
              "          element.appendChild(docLink);\n",
              "        }\n",
              "      </script>\n",
              "    </div>\n",
              "  </div>\n",
              "  "
            ]
          },
          "metadata": {},
          "execution_count": 26
        }
      ]
    },
    {
      "cell_type": "code",
      "source": [
        ""
      ],
      "metadata": {
        "id": "UmUAcDjv2KbU"
      },
      "execution_count": 26,
      "outputs": []
    },
    {
      "cell_type": "markdown",
      "source": [
        "**Parts of Speech Tagging**"
      ],
      "metadata": {
        "id": "x6NXmBQi33CQ"
      }
    },
    {
      "cell_type": "markdown",
      "source": [
        "**NLTK**"
      ],
      "metadata": {
        "id": "KTOYf63wBTeF"
      }
    },
    {
      "cell_type": "code",
      "source": [
        "from nltk import word_tokenize, pos_tag\n",
        "nltk.download('averaged_perceptron_tagger')"
      ],
      "metadata": {
        "colab": {
          "base_uri": "https://localhost:8080/"
        },
        "id": "lm0Aftde36I2",
        "outputId": "4aa4e8c9-4207-4808-a100-d1611c48b90f"
      },
      "execution_count": 27,
      "outputs": [
        {
          "output_type": "stream",
          "name": "stderr",
          "text": [
            "[nltk_data] Downloading package averaged_perceptron_tagger to\n",
            "[nltk_data]     /root/nltk_data...\n",
            "[nltk_data]   Unzipping taggers/averaged_perceptron_tagger.zip.\n"
          ]
        },
        {
          "output_type": "execute_result",
          "data": {
            "text/plain": [
              "True"
            ]
          },
          "metadata": {},
          "execution_count": 27
        }
      ]
    },
    {
      "cell_type": "code",
      "source": [
        "text = \"Google News is available as an app on Android iOS and the Web.\"\n",
        "tokens = word_tokenize(text)\n",
        "tokens"
      ],
      "metadata": {
        "colab": {
          "base_uri": "https://localhost:8080/"
        },
        "id": "Q-3r6f3836Y4",
        "outputId": "5650b7b6-826f-40c2-fa54-98b712af8250"
      },
      "execution_count": 28,
      "outputs": [
        {
          "output_type": "execute_result",
          "data": {
            "text/plain": [
              "['Google',\n",
              " 'News',\n",
              " 'is',\n",
              " 'available',\n",
              " 'as',\n",
              " 'an',\n",
              " 'app',\n",
              " 'on',\n",
              " 'Android',\n",
              " 'iOS',\n",
              " 'and',\n",
              " 'the',\n",
              " 'Web',\n",
              " '.']"
            ]
          },
          "metadata": {},
          "execution_count": 28
        }
      ]
    },
    {
      "cell_type": "code",
      "source": [
        "print(pos_tag(tokens))"
      ],
      "metadata": {
        "colab": {
          "base_uri": "https://localhost:8080/"
        },
        "id": "LTU5Er7L4FuH",
        "outputId": "22e90237-17b2-4b4f-9963-65240c46f0d3"
      },
      "execution_count": 29,
      "outputs": [
        {
          "output_type": "stream",
          "name": "stdout",
          "text": [
            "[('Google', 'NNP'), ('News', 'NNP'), ('is', 'VBZ'), ('available', 'JJ'), ('as', 'IN'), ('an', 'DT'), ('app', 'NN'), ('on', 'IN'), ('Android', 'NNP'), ('iOS', 'NN'), ('and', 'CC'), ('the', 'DT'), ('Web', 'NNP'), ('.', '.')]\n"
          ]
        }
      ]
    },
    {
      "cell_type": "code",
      "source": [
        "nltk.download('tagsets')\n",
        "nltk.help.upenn_tagset()"
      ],
      "metadata": {
        "id": "lkN4seO14pKC"
      },
      "execution_count": null,
      "outputs": []
    },
    {
      "cell_type": "markdown",
      "source": [
        "**Using SPACY**"
      ],
      "metadata": {
        "id": "Gx1oikyhBXdm"
      }
    },
    {
      "cell_type": "code",
      "source": [
        "! python -m spacy download en_core_web_sm"
      ],
      "metadata": {
        "id": "R7c3j2Wm-jCf"
      },
      "execution_count": null,
      "outputs": []
    },
    {
      "cell_type": "code",
      "source": [
        "import spacy\n",
        "nlp = spacy.load(\"en_core_web_sm\")"
      ],
      "metadata": {
        "id": "1t_Zkeg1-jMU"
      },
      "execution_count": 33,
      "outputs": []
    },
    {
      "cell_type": "code",
      "source": [
        "text = (\"\"\"It presents a continuous flow of links to articles organized from thousands of publishers and magazines.\"\"\")\n",
        "  \n",
        "doc = nlp(text)\n",
        "\n",
        "\n",
        "for token in doc:\n",
        "  print(token, token.pos_)\n",
        "  \n",
        "# You want list of Verb tokens\n",
        "print(\"Verbs:\", [token.text for token in doc if token.pos_ == \"VERB\"])"
      ],
      "metadata": {
        "colab": {
          "base_uri": "https://localhost:8080/"
        },
        "id": "AKXiyjSZ_d5Y",
        "outputId": "03ca4dc6-44c6-46fa-ab68-71129d15a44f"
      },
      "execution_count": 47,
      "outputs": [
        {
          "output_type": "stream",
          "name": "stdout",
          "text": [
            "It PRON\n",
            "presents VERB\n",
            "a DET\n",
            "continuous ADJ\n",
            "flow NOUN\n",
            "of ADP\n",
            "links NOUN\n",
            "to ADP\n",
            "articles NOUN\n",
            "organized VERB\n",
            "from ADP\n",
            "thousands NOUN\n",
            "of ADP\n",
            "publishers NOUN\n",
            "and CCONJ\n",
            "magazines NOUN\n",
            ". PUNCT\n",
            "Verbs: ['presents', 'organized']\n"
          ]
        }
      ]
    },
    {
      "cell_type": "markdown",
      "source": [
        "**NER**"
      ],
      "metadata": {
        "id": "tfYk5ZlUAdsu"
      }
    },
    {
      "cell_type": "code",
      "source": [
        "raw_text=\"The Indian Space Research Organisation or is the national space agency of India, headquartered in Bengaluru. It operates under Department of Space which is directly overseen by the Prime Minister of India while Chairman of ISRO acts as executive of DOS as well.\"\n",
        "doc2 = nlp(raw_text)"
      ],
      "metadata": {
        "id": "CI3qarMQ_d-d"
      },
      "execution_count": 48,
      "outputs": []
    },
    {
      "cell_type": "code",
      "source": [
        "for word in doc2.ents:\n",
        "    print(word.text,word.label_)"
      ],
      "metadata": {
        "colab": {
          "base_uri": "https://localhost:8080/"
        },
        "id": "PmVXZNwBAp6B",
        "outputId": "deae512f-ab1e-4b75-b845-f825d181efa2"
      },
      "execution_count": 40,
      "outputs": [
        {
          "output_type": "stream",
          "name": "stdout",
          "text": [
            "The Indian Space Research Organisation ORG\n",
            "India GPE\n",
            "Bengaluru ORG\n",
            "Department of Space ORG\n",
            "India GPE\n"
          ]
        }
      ]
    },
    {
      "cell_type": "code",
      "source": [
        "spacy.explain(\"GPE\")"
      ],
      "metadata": {
        "colab": {
          "base_uri": "https://localhost:8080/",
          "height": 35
        },
        "id": "09uPUo44Ap85",
        "outputId": "4c25e036-9689-43c4-992d-fb4808e4328e"
      },
      "execution_count": 49,
      "outputs": [
        {
          "output_type": "execute_result",
          "data": {
            "text/plain": [
              "'Countries, cities, states'"
            ],
            "application/vnd.google.colaboratory.intrinsic+json": {
              "type": "string"
            }
          },
          "metadata": {},
          "execution_count": 49
        }
      ]
    },
    {
      "cell_type": "code",
      "source": [
        "from spacy import displacy\n",
        "displacy.render(doc2,style=\"ent\",jupyter=True)"
      ],
      "metadata": {
        "colab": {
          "base_uri": "https://localhost:8080/",
          "height": 157
        },
        "id": "3AJ0zpkBBBxK",
        "outputId": "2d17ca4b-d80f-4463-8158-facc6d259e34"
      },
      "execution_count": 43,
      "outputs": [
        {
          "output_type": "display_data",
          "data": {
            "text/plain": [
              "<IPython.core.display.HTML object>"
            ],
            "text/html": [
              "<span class=\"tex2jax_ignore\"><div class=\"entities\" style=\"line-height: 2.5; direction: ltr\">\n",
              "<mark class=\"entity\" style=\"background: #7aecec; padding: 0.45em 0.6em; margin: 0 0.25em; line-height: 1; border-radius: 0.35em;\">\n",
              "    The Indian Space Research Organisation\n",
              "    <span style=\"font-size: 0.8em; font-weight: bold; line-height: 1; border-radius: 0.35em; vertical-align: middle; margin-left: 0.5rem\">ORG</span>\n",
              "</mark>\n",
              " or is the national space agency of \n",
              "<mark class=\"entity\" style=\"background: #feca74; padding: 0.45em 0.6em; margin: 0 0.25em; line-height: 1; border-radius: 0.35em;\">\n",
              "    India\n",
              "    <span style=\"font-size: 0.8em; font-weight: bold; line-height: 1; border-radius: 0.35em; vertical-align: middle; margin-left: 0.5rem\">GPE</span>\n",
              "</mark>\n",
              ", headquartered in \n",
              "<mark class=\"entity\" style=\"background: #7aecec; padding: 0.45em 0.6em; margin: 0 0.25em; line-height: 1; border-radius: 0.35em;\">\n",
              "    Bengaluru\n",
              "    <span style=\"font-size: 0.8em; font-weight: bold; line-height: 1; border-radius: 0.35em; vertical-align: middle; margin-left: 0.5rem\">ORG</span>\n",
              "</mark>\n",
              ". It operates under \n",
              "<mark class=\"entity\" style=\"background: #7aecec; padding: 0.45em 0.6em; margin: 0 0.25em; line-height: 1; border-radius: 0.35em;\">\n",
              "    Department of Space\n",
              "    <span style=\"font-size: 0.8em; font-weight: bold; line-height: 1; border-radius: 0.35em; vertical-align: middle; margin-left: 0.5rem\">ORG</span>\n",
              "</mark>\n",
              " which is directly overseen by the Prime Minister of \n",
              "<mark class=\"entity\" style=\"background: #feca74; padding: 0.45em 0.6em; margin: 0 0.25em; line-height: 1; border-radius: 0.35em;\">\n",
              "    India\n",
              "    <span style=\"font-size: 0.8em; font-weight: bold; line-height: 1; border-radius: 0.35em; vertical-align: middle; margin-left: 0.5rem\">GPE</span>\n",
              "</mark>\n",
              " while Chairman of ISRO acts as executive of DOS as well.</div></span>"
            ]
          },
          "metadata": {}
        }
      ]
    },
    {
      "cell_type": "code",
      "source": [
        ""
      ],
      "metadata": {
        "id": "Tdy2ra3PBB1O"
      },
      "execution_count": null,
      "outputs": []
    },
    {
      "cell_type": "code",
      "source": [
        "\"is\" in \"Google News is available as an app on Android iOS and the Web.\""
      ],
      "metadata": {
        "colab": {
          "base_uri": "https://localhost:8080/"
        },
        "id": "xZZGW1JVBB6R",
        "outputId": "2e2474a2-18ab-47bb-8184-079e527b64d5"
      },
      "execution_count": 50,
      "outputs": [
        {
          "output_type": "execute_result",
          "data": {
            "text/plain": [
              "True"
            ]
          },
          "metadata": {},
          "execution_count": 50
        }
      ]
    },
    {
      "cell_type": "code",
      "source": [
        "doc1 = \"sam is travelling to japan.\"\n",
        "doc2 = \"Japan is a developed country.\"\n",
        "doc3 = \"travelling is sam passion.\""
      ],
      "metadata": {
        "id": "X4mSnvNioDV4"
      },
      "execution_count": 2,
      "outputs": []
    },
    {
      "cell_type": "code",
      "source": [
        "def TF(doc):\n",
        "  tf_dict = {}\n",
        "  words = doc.split()\n",
        "\n",
        "  for i in words:\n",
        "    Tf_one = words.count(i)/len(words)\n",
        "    tf_dict[i] = Tf_one\n",
        "  return tf_dict"
      ],
      "metadata": {
        "id": "-YJzABt5qW7A"
      },
      "execution_count": 56,
      "outputs": []
    },
    {
      "cell_type": "code",
      "source": [
        "TF(doc1)"
      ],
      "metadata": {
        "colab": {
          "base_uri": "https://localhost:8080/"
        },
        "id": "lTlOTLqaqXBs",
        "outputId": "371a5384-2ac2-4ade-c0ce-f9d2f21c81fb"
      },
      "execution_count": 57,
      "outputs": [
        {
          "output_type": "execute_result",
          "data": {
            "text/plain": [
              "{'sam': 0.2, 'is': 0.2, 'travelling': 0.2, 'to': 0.2, 'japan.': 0.2}"
            ]
          },
          "metadata": {},
          "execution_count": 57
        }
      ]
    },
    {
      "cell_type": "code",
      "source": [
        "from sklearn.feature_extraction.text import TfidfVectorizer\n",
        "import pandas as pd"
      ],
      "metadata": {
        "id": "40mf11C2sh-1"
      },
      "execution_count": 4,
      "outputs": []
    },
    {
      "cell_type": "code",
      "source": [
        "vectorizer = TfidfVectorizer()\n",
        "vectors = vectorizer.fit_transform([doc1, doc2,doc3])\n",
        "print(vectors)"
      ],
      "metadata": {
        "colab": {
          "base_uri": "https://localhost:8080/"
        },
        "id": "4EJxF1ZMfyys",
        "outputId": "69ccda7b-0e65-4d99-848b-ad33e037c044"
      },
      "execution_count": 7,
      "outputs": [
        {
          "output_type": "stream",
          "name": "stdout",
          "text": [
            "  (0, 3)\t0.43306684852870914\n",
            "  (0, 6)\t0.5694308628404254\n",
            "  (0, 7)\t0.43306684852870914\n",
            "  (0, 2)\t0.33631504064053513\n",
            "  (0, 5)\t0.43306684852870914\n",
            "  (1, 0)\t0.5844829010200651\n",
            "  (1, 1)\t0.5844829010200651\n",
            "  (1, 3)\t0.444514311537431\n",
            "  (1, 2)\t0.34520501686496574\n",
            "  (2, 4)\t0.6317450542765208\n",
            "  (2, 7)\t0.4804583972923858\n",
            "  (2, 2)\t0.3731188059313277\n",
            "  (2, 5)\t0.4804583972923858\n"
          ]
        }
      ]
    },
    {
      "cell_type": "code",
      "source": [
        "feature_names = vectorizer.get_feature_names()\n",
        "feature_names"
      ],
      "metadata": {
        "colab": {
          "base_uri": "https://localhost:8080/"
        },
        "id": "tAAKAu9Ukk2J",
        "outputId": "c18dbde7-64bf-457d-a0f6-cda962985fd2"
      },
      "execution_count": 8,
      "outputs": [
        {
          "output_type": "stream",
          "name": "stderr",
          "text": [
            "/usr/local/lib/python3.7/dist-packages/sklearn/utils/deprecation.py:87: FutureWarning: Function get_feature_names is deprecated; get_feature_names is deprecated in 1.0 and will be removed in 1.2. Please use get_feature_names_out instead.\n",
            "  warnings.warn(msg, category=FutureWarning)\n"
          ]
        },
        {
          "output_type": "execute_result",
          "data": {
            "text/plain": [
              "['country', 'developed', 'is', 'japan', 'passion', 'sam', 'to', 'travelling']"
            ]
          },
          "metadata": {},
          "execution_count": 8
        }
      ]
    },
    {
      "cell_type": "code",
      "source": [
        "dense = vectors.todense()\n",
        "dense"
      ],
      "metadata": {
        "colab": {
          "base_uri": "https://localhost:8080/"
        },
        "id": "fgENo5-hksOV",
        "outputId": "22247a3f-eeae-430e-d936-f0711e20537f"
      },
      "execution_count": 9,
      "outputs": [
        {
          "output_type": "execute_result",
          "data": {
            "text/plain": [
              "matrix([[0.        , 0.        , 0.33631504, 0.43306685, 0.        ,\n",
              "         0.43306685, 0.56943086, 0.43306685],\n",
              "        [0.5844829 , 0.5844829 , 0.34520502, 0.44451431, 0.        ,\n",
              "         0.        , 0.        , 0.        ],\n",
              "        [0.        , 0.        , 0.37311881, 0.        , 0.63174505,\n",
              "         0.4804584 , 0.        , 0.4804584 ]])"
            ]
          },
          "metadata": {},
          "execution_count": 9
        }
      ]
    },
    {
      "cell_type": "code",
      "source": [
        "denselist = dense.tolist()\n",
        "df = pd.DataFrame(denselist, columns=feature_names)"
      ],
      "metadata": {
        "id": "NZvr9H1FlB28"
      },
      "execution_count": 10,
      "outputs": []
    },
    {
      "cell_type": "code",
      "source": [
        "df"
      ],
      "metadata": {
        "colab": {
          "base_uri": "https://localhost:8080/",
          "height": 207
        },
        "id": "jK6nQa0Rg8yz",
        "outputId": "7722a423-2d7d-4c8b-9359-6f803fa692ac"
      },
      "execution_count": 11,
      "outputs": [
        {
          "output_type": "execute_result",
          "data": {
            "text/plain": [
              "    country  developed        is     japan   passion       sam        to  \\\n",
              "0  0.000000   0.000000  0.336315  0.433067  0.000000  0.433067  0.569431   \n",
              "1  0.584483   0.584483  0.345205  0.444514  0.000000  0.000000  0.000000   \n",
              "2  0.000000   0.000000  0.373119  0.000000  0.631745  0.480458  0.000000   \n",
              "\n",
              "   travelling  \n",
              "0    0.433067  \n",
              "1    0.000000  \n",
              "2    0.480458  "
            ],
            "text/html": [
              "\n",
              "  <div id=\"df-3fd69c8e-a969-4abf-92fb-f75551f0abf0\">\n",
              "    <div class=\"colab-df-container\">\n",
              "      <div>\n",
              "<style scoped>\n",
              "    .dataframe tbody tr th:only-of-type {\n",
              "        vertical-align: middle;\n",
              "    }\n",
              "\n",
              "    .dataframe tbody tr th {\n",
              "        vertical-align: top;\n",
              "    }\n",
              "\n",
              "    .dataframe thead th {\n",
              "        text-align: right;\n",
              "    }\n",
              "</style>\n",
              "<table border=\"1\" class=\"dataframe\">\n",
              "  <thead>\n",
              "    <tr style=\"text-align: right;\">\n",
              "      <th></th>\n",
              "      <th>country</th>\n",
              "      <th>developed</th>\n",
              "      <th>is</th>\n",
              "      <th>japan</th>\n",
              "      <th>passion</th>\n",
              "      <th>sam</th>\n",
              "      <th>to</th>\n",
              "      <th>travelling</th>\n",
              "    </tr>\n",
              "  </thead>\n",
              "  <tbody>\n",
              "    <tr>\n",
              "      <th>0</th>\n",
              "      <td>0.000000</td>\n",
              "      <td>0.000000</td>\n",
              "      <td>0.336315</td>\n",
              "      <td>0.433067</td>\n",
              "      <td>0.000000</td>\n",
              "      <td>0.433067</td>\n",
              "      <td>0.569431</td>\n",
              "      <td>0.433067</td>\n",
              "    </tr>\n",
              "    <tr>\n",
              "      <th>1</th>\n",
              "      <td>0.584483</td>\n",
              "      <td>0.584483</td>\n",
              "      <td>0.345205</td>\n",
              "      <td>0.444514</td>\n",
              "      <td>0.000000</td>\n",
              "      <td>0.000000</td>\n",
              "      <td>0.000000</td>\n",
              "      <td>0.000000</td>\n",
              "    </tr>\n",
              "    <tr>\n",
              "      <th>2</th>\n",
              "      <td>0.000000</td>\n",
              "      <td>0.000000</td>\n",
              "      <td>0.373119</td>\n",
              "      <td>0.000000</td>\n",
              "      <td>0.631745</td>\n",
              "      <td>0.480458</td>\n",
              "      <td>0.000000</td>\n",
              "      <td>0.480458</td>\n",
              "    </tr>\n",
              "  </tbody>\n",
              "</table>\n",
              "</div>\n",
              "      <button class=\"colab-df-convert\" onclick=\"convertToInteractive('df-3fd69c8e-a969-4abf-92fb-f75551f0abf0')\"\n",
              "              title=\"Convert this dataframe to an interactive table.\"\n",
              "              style=\"display:none;\">\n",
              "        \n",
              "  <svg xmlns=\"http://www.w3.org/2000/svg\" height=\"24px\"viewBox=\"0 0 24 24\"\n",
              "       width=\"24px\">\n",
              "    <path d=\"M0 0h24v24H0V0z\" fill=\"none\"/>\n",
              "    <path d=\"M18.56 5.44l.94 2.06.94-2.06 2.06-.94-2.06-.94-.94-2.06-.94 2.06-2.06.94zm-11 1L8.5 8.5l.94-2.06 2.06-.94-2.06-.94L8.5 2.5l-.94 2.06-2.06.94zm10 10l.94 2.06.94-2.06 2.06-.94-2.06-.94-.94-2.06-.94 2.06-2.06.94z\"/><path d=\"M17.41 7.96l-1.37-1.37c-.4-.4-.92-.59-1.43-.59-.52 0-1.04.2-1.43.59L10.3 9.45l-7.72 7.72c-.78.78-.78 2.05 0 2.83L4 21.41c.39.39.9.59 1.41.59.51 0 1.02-.2 1.41-.59l7.78-7.78 2.81-2.81c.8-.78.8-2.07 0-2.86zM5.41 20L4 18.59l7.72-7.72 1.47 1.35L5.41 20z\"/>\n",
              "  </svg>\n",
              "      </button>\n",
              "      \n",
              "  <style>\n",
              "    .colab-df-container {\n",
              "      display:flex;\n",
              "      flex-wrap:wrap;\n",
              "      gap: 12px;\n",
              "    }\n",
              "\n",
              "    .colab-df-convert {\n",
              "      background-color: #E8F0FE;\n",
              "      border: none;\n",
              "      border-radius: 50%;\n",
              "      cursor: pointer;\n",
              "      display: none;\n",
              "      fill: #1967D2;\n",
              "      height: 32px;\n",
              "      padding: 0 0 0 0;\n",
              "      width: 32px;\n",
              "    }\n",
              "\n",
              "    .colab-df-convert:hover {\n",
              "      background-color: #E2EBFA;\n",
              "      box-shadow: 0px 1px 2px rgba(60, 64, 67, 0.3), 0px 1px 3px 1px rgba(60, 64, 67, 0.15);\n",
              "      fill: #174EA6;\n",
              "    }\n",
              "\n",
              "    [theme=dark] .colab-df-convert {\n",
              "      background-color: #3B4455;\n",
              "      fill: #D2E3FC;\n",
              "    }\n",
              "\n",
              "    [theme=dark] .colab-df-convert:hover {\n",
              "      background-color: #434B5C;\n",
              "      box-shadow: 0px 1px 3px 1px rgba(0, 0, 0, 0.15);\n",
              "      filter: drop-shadow(0px 1px 2px rgba(0, 0, 0, 0.3));\n",
              "      fill: #FFFFFF;\n",
              "    }\n",
              "  </style>\n",
              "\n",
              "      <script>\n",
              "        const buttonEl =\n",
              "          document.querySelector('#df-3fd69c8e-a969-4abf-92fb-f75551f0abf0 button.colab-df-convert');\n",
              "        buttonEl.style.display =\n",
              "          google.colab.kernel.accessAllowed ? 'block' : 'none';\n",
              "\n",
              "        async function convertToInteractive(key) {\n",
              "          const element = document.querySelector('#df-3fd69c8e-a969-4abf-92fb-f75551f0abf0');\n",
              "          const dataTable =\n",
              "            await google.colab.kernel.invokeFunction('convertToInteractive',\n",
              "                                                     [key], {});\n",
              "          if (!dataTable) return;\n",
              "\n",
              "          const docLinkHtml = 'Like what you see? Visit the ' +\n",
              "            '<a target=\"_blank\" href=https://colab.research.google.com/notebooks/data_table.ipynb>data table notebook</a>'\n",
              "            + ' to learn more about interactive tables.';\n",
              "          element.innerHTML = '';\n",
              "          dataTable['output_type'] = 'display_data';\n",
              "          await google.colab.output.renderOutput(dataTable, element);\n",
              "          const docLink = document.createElement('div');\n",
              "          docLink.innerHTML = docLinkHtml;\n",
              "          element.appendChild(docLink);\n",
              "        }\n",
              "      </script>\n",
              "    </div>\n",
              "  </div>\n",
              "  "
            ]
          },
          "metadata": {},
          "execution_count": 11
        }
      ]
    },
    {
      "cell_type": "code",
      "source": [
        "doc2"
      ],
      "metadata": {
        "colab": {
          "base_uri": "https://localhost:8080/",
          "height": 35
        },
        "id": "qBel_mWIkecw",
        "outputId": "7575036e-4a71-47ad-b9b0-10f4fdf30f15"
      },
      "execution_count": 12,
      "outputs": [
        {
          "output_type": "execute_result",
          "data": {
            "text/plain": [
              "'Japan is a developed country.'"
            ],
            "application/vnd.google.colaboratory.intrinsic+json": {
              "type": "string"
            }
          },
          "metadata": {},
          "execution_count": 12
        }
      ]
    },
    {
      "cell_type": "code",
      "source": [
        ""
      ],
      "metadata": {
        "id": "9ozBUKp1lbud"
      },
      "execution_count": null,
      "outputs": []
    }
  ]
}