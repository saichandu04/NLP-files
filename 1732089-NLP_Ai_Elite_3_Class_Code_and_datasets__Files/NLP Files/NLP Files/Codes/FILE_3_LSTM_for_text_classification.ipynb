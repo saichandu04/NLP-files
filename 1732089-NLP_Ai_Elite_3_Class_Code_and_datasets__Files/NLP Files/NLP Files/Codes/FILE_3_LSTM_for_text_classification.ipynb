{
  "metadata": {
    "language_info": {
      "name": "python",
      "version": "3.7.9",
      "mimetype": "text/x-python",
      "codemirror_mode": {
        "name": "ipython",
        "version": 3
      },
      "pygments_lexer": "ipython3",
      "nbconvert_exporter": "python",
      "file_extension": ".py"
    },
    "kernelspec": {
      "language": "python",
      "display_name": "Python 3",
      "name": "python3"
    },
    "colab": {
      "provenance": [],
      "collapsed_sections": []
    }
  },
  "nbformat_minor": 0,
  "nbformat": 4,
  "cells": [
    {
      "cell_type": "markdown",
      "source": [
        "# Import the necessary libraries"
      ],
      "metadata": {
        "_cell_guid": "79c7e3d0-c299-4dcb-8224-4455121ee9b0",
        "_uuid": "d629ff2d2480ee46fbb7e2d37f6b5fab8052498a",
        "id": "fYJW1DIyth0Q"
      }
    },
    {
      "cell_type": "code",
      "source": [
        "import pandas as pd\n",
        "import numpy as np\n",
        "import matplotlib.pyplot as plt\n",
        "import seaborn as sns\n",
        "from sklearn.model_selection import train_test_split\n",
        "from sklearn.preprocessing import LabelEncoder\n",
        "from keras.models import Model\n",
        "from keras.layers import SimpleRNN, Activation, Dense, Dropout, Input, Embedding, LSTM\n",
        "from keras.optimizers import RMSprop\n",
        "from keras.preprocessing.text import Tokenizer\n",
        "from keras.preprocessing import sequence\n",
        "from keras.utils import to_categorical\n",
        "from keras.callbacks import EarlyStopping\n",
        "%matplotlib inline"
      ],
      "metadata": {
        "_uuid": "d6fb32fd69316596e236eab5fb8cf77c848508c3",
        "trusted": true,
        "id": "K4uH02DRth0a"
      },
      "execution_count": null,
      "outputs": []
    },
    {
      "cell_type": "markdown",
      "source": [
        "### Load the data into Pandas dataframe"
      ],
      "metadata": {
        "_uuid": "f674695f1742479cefdeec0e81ab469f7b6ec90f",
        "id": "OrDSZXC5th0e"
      }
    },
    {
      "cell_type": "code",
      "source": [
        "df = pd.read_csv('../input/spam.csv',delimiter=',',encoding='latin-1')\n",
        "df.head()"
      ],
      "metadata": {
        "_uuid": "aca2f1d9da3f35d104763166fe4d25448410d8f2",
        "trusted": true,
        "id": "ayHL3Jw_th0f",
        "outputId": "226bb703-9d38-4c69-916f-236fdf53ddc9"
      },
      "execution_count": null,
      "outputs": [
        {
          "execution_count": 2,
          "output_type": "execute_result",
          "data": {
            "text/plain": "     v1                                                 v2 Unnamed: 2  \\\n0   ham  Go until jurong point, crazy.. Available only ...        NaN   \n1   ham                      Ok lar... Joking wif u oni...        NaN   \n2  spam  Free entry in 2 a wkly comp to win FA Cup fina...        NaN   \n3   ham  U dun say so early hor... U c already then say...        NaN   \n4   ham  Nah I don't think he goes to usf, he lives aro...        NaN   \n\n  Unnamed: 3 Unnamed: 4  \n0        NaN        NaN  \n1        NaN        NaN  \n2        NaN        NaN  \n3        NaN        NaN  \n4        NaN        NaN  ",
            "text/html": "<div>\n<style scoped>\n    .dataframe tbody tr th:only-of-type {\n        vertical-align: middle;\n    }\n\n    .dataframe tbody tr th {\n        vertical-align: top;\n    }\n\n    .dataframe thead th {\n        text-align: right;\n    }\n</style>\n<table border=\"1\" class=\"dataframe\">\n  <thead>\n    <tr style=\"text-align: right;\">\n      <th></th>\n      <th>v1</th>\n      <th>v2</th>\n      <th>Unnamed: 2</th>\n      <th>Unnamed: 3</th>\n      <th>Unnamed: 4</th>\n    </tr>\n  </thead>\n  <tbody>\n    <tr>\n      <th>0</th>\n      <td>ham</td>\n      <td>Go until jurong point, crazy.. Available only ...</td>\n      <td>NaN</td>\n      <td>NaN</td>\n      <td>NaN</td>\n    </tr>\n    <tr>\n      <th>1</th>\n      <td>ham</td>\n      <td>Ok lar... Joking wif u oni...</td>\n      <td>NaN</td>\n      <td>NaN</td>\n      <td>NaN</td>\n    </tr>\n    <tr>\n      <th>2</th>\n      <td>spam</td>\n      <td>Free entry in 2 a wkly comp to win FA Cup fina...</td>\n      <td>NaN</td>\n      <td>NaN</td>\n      <td>NaN</td>\n    </tr>\n    <tr>\n      <th>3</th>\n      <td>ham</td>\n      <td>U dun say so early hor... U c already then say...</td>\n      <td>NaN</td>\n      <td>NaN</td>\n      <td>NaN</td>\n    </tr>\n    <tr>\n      <th>4</th>\n      <td>ham</td>\n      <td>Nah I don't think he goes to usf, he lives aro...</td>\n      <td>NaN</td>\n      <td>NaN</td>\n      <td>NaN</td>\n    </tr>\n  </tbody>\n</table>\n</div>"
          },
          "metadata": {}
        }
      ]
    },
    {
      "cell_type": "markdown",
      "source": [
        "Drop the columns that are not required for the neural network."
      ],
      "metadata": {
        "_uuid": "53083ccecf39523cff290495a6cc768061ba9b46",
        "id": "ker3E7I0th0h"
      }
    },
    {
      "cell_type": "code",
      "source": [
        "df.drop(['Unnamed: 2', 'Unnamed: 3', 'Unnamed: 4'],axis=1,inplace=True)\n",
        "df.info()"
      ],
      "metadata": {
        "scrolled": true,
        "_uuid": "95a8b5d6f19cf42d4f55c6d2842faf1d0d55c1d0",
        "trusted": true,
        "id": "WQnTOCLeth0i",
        "outputId": "062a8622-7938-4e42-ea4a-a02690f020a6"
      },
      "execution_count": null,
      "outputs": [
        {
          "name": "stdout",
          "text": "<class 'pandas.core.frame.DataFrame'>\nRangeIndex: 5572 entries, 0 to 5571\nData columns (total 2 columns):\n #   Column  Non-Null Count  Dtype \n---  ------  --------------  ----- \n 0   v1      5572 non-null   object\n 1   v2      5572 non-null   object\ndtypes: object(2)\nmemory usage: 87.2+ KB\n",
          "output_type": "stream"
        }
      ]
    },
    {
      "cell_type": "markdown",
      "source": [
        "Understand the distribution better."
      ],
      "metadata": {
        "_uuid": "3c7060084470000f39a2dcc15b656586dcd6e9fd",
        "id": "wjwr8unxth0j"
      }
    },
    {
      "cell_type": "code",
      "source": [
        "sns.countplot(df.v1)\n",
        "plt.xlabel('Label')\n",
        "plt.title('Number of ham and spam messages')"
      ],
      "metadata": {
        "_uuid": "a12002f521dd8eaeb0f69a932cbf23815ffd09d7",
        "trusted": true,
        "id": "A5734oMeth0k",
        "outputId": "081d2e96-03e9-4560-a1d8-efb4ce934acb"
      },
      "execution_count": null,
      "outputs": [
        {
          "name": "stderr",
          "text": "/opt/conda/lib/python3.7/site-packages/seaborn/_decorators.py:43: FutureWarning: Pass the following variable as a keyword arg: x. From version 0.12, the only valid positional argument will be `data`, and passing other arguments without an explicit keyword will result in an error or misinterpretation.\n  FutureWarning\n",
          "output_type": "stream"
        },
        {
          "execution_count": 4,
          "output_type": "execute_result",
          "data": {
            "text/plain": "Text(0.5, 1.0, 'Number of ham and spam messages')"
          },
          "metadata": {}
        },
        {
          "output_type": "display_data",
          "data": {
            "text/plain": "<Figure size 432x288 with 1 Axes>",
            "image/png": "[encoded data removed]"
          },
          "metadata": {
            "needs_background": "light"
          }
        }
      ]
    },
    {
      "cell_type": "markdown",
      "source": [
        "* Create input and output vectors.\n",
        "* Process the labels."
      ],
      "metadata": {
        "_uuid": "353a8191f86c3a22843a729b5d4a5acefbf94be8",
        "id": "VuD8vn8hth0m"
      }
    },
    {
      "cell_type": "code",
      "source": [
        "X = df.v2\n",
        "Y = df.v1\n",
        "le = LabelEncoder()\n",
        "Y = le.fit_transform(Y)\n",
        "Y = Y.reshape(-1,1)"
      ],
      "metadata": {
        "_uuid": "a1a345c1683e2fcc7173ecae867a5da87f2dde24",
        "trusted": true,
        "id": "ZorBqGkcth0o"
      },
      "execution_count": null,
      "outputs": []
    },
    {
      "cell_type": "code",
      "source": [
        "Y"
      ],
      "metadata": {
        "trusted": true,
        "id": "FKy2gM1gth0q",
        "outputId": "255ef560-df5c-4ab4-e3f1-6aac8e58f930"
      },
      "execution_count": null,
      "outputs": [
        {
          "execution_count": 6,
          "output_type": "execute_result",
          "data": {
            "text/plain": "array([[0],\n       [0],\n       [1],\n       ...,\n       [0],\n       [0],\n       [0]])"
          },
          "metadata": {}
        }
      ]
    },
    {
      "cell_type": "markdown",
      "source": [
        "Split into training and test data."
      ],
      "metadata": {
        "_uuid": "150e244a39b814d8a41bbe0e419bc5f28e457dd6",
        "id": "mmuOxG6Uth0s"
      }
    },
    {
      "cell_type": "code",
      "source": [
        "X_train,X_test,Y_train,Y_test = train_test_split(X,Y,test_size=0.2)"
      ],
      "metadata": {
        "scrolled": true,
        "_uuid": "aa3386af09469682c66cc53a1830a4e42f0e70b6",
        "trusted": true,
        "id": "z7591Gn9th0u"
      },
      "execution_count": null,
      "outputs": []
    },
    {
      "cell_type": "markdown",
      "source": [
        "### Process the data\n",
        "* Tokenize the data and convert the text to sequences.\n",
        "* Add padding to ensure that all the sequences have the same shape.\n",
        "* There are many ways of taking the *max_len* and here an arbitrary length of 150 is chosen."
      ],
      "metadata": {
        "_uuid": "c5378d55c271e01480c1ac07f94ff99a80f900d6",
        "id": "j5RTufd-th0v"
      }
    },
    {
      "cell_type": "code",
      "source": [
        "max_words = 1000\n",
        "max_len = 150\n",
        "tok = Tokenizer(num_words=max_words)\n",
        "tok.fit_on_texts(X_train)\n",
        "sequences = tok.texts_to_sequences(X_train)\n",
        "sequences_matrix = sequence.pad_sequences(sequences,maxlen=max_len)"
      ],
      "metadata": {
        "_uuid": "bdca14f2b8cd7bd7cb5ee66fd40ea522217c03c6",
        "trusted": true,
        "id": "xejNY_zKth0w"
      },
      "execution_count": null,
      "outputs": []
    },
    {
      "cell_type": "code",
      "source": [
        "sequences[0]"
      ],
      "metadata": {
        "trusted": true,
        "id": "uthS60QYth0w",
        "outputId": "2f656d71-ab01-4366-fa4c-1b25610115d5"
      },
      "execution_count": null,
      "outputs": [
        {
          "execution_count": 13,
          "output_type": "execute_result",
          "data": {
            "text/plain": "[26, 31, 161, 161, 118, 37, 9, 127, 216, 42, 41]"
          },
          "metadata": {}
        }
      ]
    },
    {
      "cell_type": "code",
      "source": [
        "for i in range(10):\n",
        "    print(len(sequences[i]))"
      ],
      "metadata": {
        "trusted": true,
        "id": "IshBMS2Kth0x",
        "outputId": "a4870bcf-7a80-46a1-8f89-caf674cd2966"
      },
      "execution_count": null,
      "outputs": [
        {
          "name": "stdout",
          "text": "11\n5\n6\n15\n5\n4\n22\n2\n9\n3\n",
          "output_type": "stream"
        }
      ]
    },
    {
      "cell_type": "code",
      "source": [
        "for i in range(10):\n",
        "    print(len(sequences_matrix[i]))"
      ],
      "metadata": {
        "trusted": true,
        "id": "v_6IXcvXth0y",
        "outputId": "b08b4122-2cd1-47b3-8248-3e55c8db826d"
      },
      "execution_count": null,
      "outputs": [
        {
          "name": "stdout",
          "text": "150\n150\n150\n150\n150\n150\n150\n150\n150\n150\n",
          "output_type": "stream"
        }
      ]
    },
    {
      "cell_type": "code",
      "source": [
        "sequences_matrix[0]"
      ],
      "metadata": {
        "trusted": true,
        "id": "dpJaBuP5th0z",
        "outputId": "48572e7c-f2cf-496e-e4ec-40ee9201a382"
      },
      "execution_count": null,
      "outputs": [
        {
          "execution_count": 15,
          "output_type": "execute_result",
          "data": {
            "text/plain": "array([  0,   0,   0,   0,   0,   0,   0,   0,   0,   0,   0,   0,   0,\n         0,   0,   0,   0,   0,   0,   0,   0,   0,   0,   0,   0,   0,\n         0,   0,   0,   0,   0,   0,   0,   0,   0,   0,   0,   0,   0,\n         0,   0,   0,   0,   0,   0,   0,   0,   0,   0,   0,   0,   0,\n         0,   0,   0,   0,   0,   0,   0,   0,   0,   0,   0,   0,   0,\n         0,   0,   0,   0,   0,   0,   0,   0,   0,   0,   0,   0,   0,\n         0,   0,   0,   0,   0,   0,   0,   0,   0,   0,   0,   0,   0,\n         0,   0,   0,   0,   0,   0,   0,   0,   0,   0,   0,   0,   0,\n         0,   0,   0,   0,   0,   0,   0,   0,   0,   0,   0,   0,   0,\n         0,   0,   0,   0,   0,   0,   0,   0,   0,   0,   0,   0,   0,\n         0,   0,   0,   0,   0,   0,   0,   0,   0,  26,  31, 161, 161,\n       118,  37,   9, 127, 216,  42,  41], dtype=int32)"
          },
          "metadata": {}
        }
      ]
    },
    {
      "cell_type": "code",
      "source": [
        "len(sequences_matrix[0])"
      ],
      "metadata": {
        "trusted": true,
        "id": "JaLTKLk_th0z",
        "outputId": "c36350fe-4870-44c2-91fd-317ffd62c1a5"
      },
      "execution_count": null,
      "outputs": [
        {
          "execution_count": 16,
          "output_type": "execute_result",
          "data": {
            "text/plain": "150"
          },
          "metadata": {}
        }
      ]
    },
    {
      "cell_type": "code",
      "source": [
        "X_train[0]"
      ],
      "metadata": {
        "trusted": true,
        "id": "Xx_NLgXVth00",
        "outputId": "bde3b80f-18f4-4154-ece5-19e3051c1e7f"
      },
      "execution_count": null,
      "outputs": [
        {
          "execution_count": 14,
          "output_type": "execute_result",
          "data": {
            "text/plain": "'Go until jurong point, crazy.. Available only in bugis n great world la e buffet... Cine there got amore wat...'"
          },
          "metadata": {}
        }
      ]
    },
    {
      "cell_type": "markdown",
      "source": [
        "### RNN\n",
        "Define the RNN structure."
      ],
      "metadata": {
        "_uuid": "ad8706caa7a447fb49b44919fd109129e4082a93",
        "id": "uIz1vomqth01"
      }
    },
    {
      "cell_type": "code",
      "source": [
        "def LSTMmodel():\n",
        "    inputs = Input(name='inputs',shape=[max_len])\n",
        "    layer = Embedding(max_words,50,input_length=max_len)(inputs)\n",
        "    layer = LSTM(32)(layer)\n",
        "    layer = Dense(256,name='FC1',activation='relu')(layer)\n",
        "    layer = Activation('relu')(layer)\n",
        "    layer = Dropout(0.5)(layer)\n",
        "    layer = Dense(1,name='out_layer')(layer)\n",
        "    layer = Activation('sigmoid')(layer)\n",
        "    model = Model(inputs=inputs,outputs=layer)\n",
        "    return model"
      ],
      "metadata": {
        "_uuid": "78fff25b8be1de575bff071a2027f3dd2b11b911",
        "trusted": true,
        "id": "s2T4YE3Jth01"
      },
      "execution_count": null,
      "outputs": []
    },
    {
      "cell_type": "markdown",
      "source": [
        "Call the function and compile the model."
      ],
      "metadata": {
        "_uuid": "9d7c489e32bff6d12b8c08c07a91e9ba5d302e0e",
        "id": "CgVpWgItth02"
      }
    },
    {
      "cell_type": "code",
      "source": [
        "import tensorflow as tf"
      ],
      "metadata": {
        "trusted": true,
        "id": "W5CvIy2sth03"
      },
      "execution_count": null,
      "outputs": []
    },
    {
      "cell_type": "code",
      "source": [
        "model = LSTMmodel()\n",
        "model.summary()\n",
        "model.compile(loss='binary_crossentropy',optimizer='rmsprop',metrics=['accuracy',tf.keras.metrics.Precision()])"
      ],
      "metadata": {
        "_uuid": "a0ede32d4127e8b4990fd74fe97fadef9e565d17",
        "trusted": true,
        "id": "mwxFIDPVth03",
        "outputId": "b71c351b-c9ef-4b93-e8b3-f46e99489536"
      },
      "execution_count": null,
      "outputs": [
        {
          "name": "stdout",
          "text": "Model: \"model_3\"\n_________________________________________________________________\nLayer (type)                 Output Shape              Param #   \n=================================================================\ninputs (InputLayer)          [(None, 150)]             0         \n_________________________________________________________________\nembedding_6 (Embedding)      (None, 150, 50)           50000     \n_________________________________________________________________\nlstm (LSTM)                  (None, 32)                10624     \n_________________________________________________________________\nFC1 (Dense)                  (None, 256)               8448      \n_________________________________________________________________\nactivation_6 (Activation)    (None, 256)               0         \n_________________________________________________________________\ndropout_3 (Dropout)          (None, 256)               0         \n_________________________________________________________________\nout_layer (Dense)            (None, 1)                 257       \n_________________________________________________________________\nactivation_7 (Activation)    (None, 1)                 0         \n=================================================================\nTotal params: 69,329\nTrainable params: 69,329\nNon-trainable params: 0\n_________________________________________________________________\n",
          "output_type": "stream"
        }
      ]
    },
    {
      "cell_type": "markdown",
      "source": [
        "Fit on the training data."
      ],
      "metadata": {
        "_uuid": "bc2e0a3ec50d14c790b82d66f9255456ec6a69da",
        "id": "rxUITlm_th04"
      }
    },
    {
      "cell_type": "code",
      "source": [
        "model.fit(sequences_matrix,Y_train,batch_size=128,epochs=10, validation_split=0.2)"
      ],
      "metadata": {
        "_uuid": "98f6d6318352420ea49c532cda158f715f940f4b",
        "trusted": true,
        "id": "1kASvANwth04",
        "outputId": "f5f13a08-8c00-4375-da5c-d6a16e267d7b"
      },
      "execution_count": null,
      "outputs": [
        {
          "name": "stdout",
          "text": "Epoch 1/10\n28/28 [==============================] - 4s 32ms/step - loss: 0.5047 - accuracy: 0.7848 - precision_1: 0.1846 - val_loss: 0.1846 - val_accuracy: 0.9137 - val_precision_1: 1.0000\nEpoch 2/10\n28/28 [==============================] - 0s 14ms/step - loss: 0.1479 - accuracy: 0.9517 - precision_1: 0.9827 - val_loss: 0.0761 - val_accuracy: 0.9798 - val_precision_1: 0.9900\nEpoch 3/10\n28/28 [==============================] - 0s 14ms/step - loss: 0.0542 - accuracy: 0.9876 - precision_1: 0.9772 - val_loss: 0.0507 - val_accuracy: 0.9843 - val_precision_1: 0.9722\nEpoch 4/10\n28/28 [==============================] - 0s 14ms/step - loss: 0.0375 - accuracy: 0.9876 - precision_1: 0.9597 - val_loss: 0.0602 - val_accuracy: 0.9854 - val_precision_1: 1.0000\nEpoch 5/10\n28/28 [==============================] - 0s 14ms/step - loss: 0.0276 - accuracy: 0.9928 - precision_1: 0.9802 - val_loss: 0.0536 - val_accuracy: 0.9809 - val_precision_1: 0.9304\nEpoch 6/10\n28/28 [==============================] - 0s 14ms/step - loss: 0.0193 - accuracy: 0.9953 - precision_1: 0.9876 - val_loss: 0.0606 - val_accuracy: 0.9798 - val_precision_1: 0.9298\nEpoch 7/10\n28/28 [==============================] - 0s 14ms/step - loss: 0.0123 - accuracy: 0.9970 - precision_1: 0.9967 - val_loss: 0.0608 - val_accuracy: 0.9865 - val_precision_1: 0.9727\nEpoch 8/10\n28/28 [==============================] - 0s 14ms/step - loss: 0.0080 - accuracy: 0.9979 - precision_1: 0.9963 - val_loss: 0.0751 - val_accuracy: 0.9787 - val_precision_1: 0.9217\nEpoch 9/10\n28/28 [==============================] - 0s 14ms/step - loss: 0.0054 - accuracy: 0.9984 - precision_1: 0.9985 - val_loss: 0.0901 - val_accuracy: 0.9742 - val_precision_1: 0.9043\nEpoch 10/10\n28/28 [==============================] - 0s 14ms/step - loss: 0.0046 - accuracy: 0.9995 - precision_1: 0.9993 - val_loss: 0.0946 - val_accuracy: 0.9765 - val_precision_1: 0.9130\n",
          "output_type": "stream"
        },
        {
          "execution_count": 40,
          "output_type": "execute_result",
          "data": {
            "text/plain": "<tensorflow.python.keras.callbacks.History at 0x7fa73829a150>"
          },
          "metadata": {}
        }
      ]
    },
    {
      "cell_type": "markdown",
      "source": [
        "The model performs well on the validation set and this configuration is chosen as the final model."
      ],
      "metadata": {
        "_uuid": "448ab38c2f804e47df48eb45385393aaec168032",
        "id": "0ybqlr4Zth05"
      }
    },
    {
      "cell_type": "markdown",
      "source": [
        "Process the test set data."
      ],
      "metadata": {
        "_uuid": "ccca7839445a7d663ee7bc425a16e247df3e0e5b",
        "id": "DVFd8CSIth05"
      }
    },
    {
      "cell_type": "code",
      "source": [
        "test_sequences = tok.texts_to_sequences(X_test)\n",
        "test_sequences_matrix = sequence.pad_sequences(test_sequences,maxlen=max_len)"
      ],
      "metadata": {
        "_uuid": "80036135a11387d952becaf2fecf653a65c02328",
        "trusted": true,
        "id": "Wlf3J6UGth05"
      },
      "execution_count": null,
      "outputs": []
    },
    {
      "cell_type": "markdown",
      "source": [
        "Evaluate the model on the test set."
      ],
      "metadata": {
        "_uuid": "0b60d7d2bcc0aabf77c8c8766c59f8d73cd34547",
        "id": "9syTEo5gth06"
      }
    },
    {
      "cell_type": "code",
      "source": [
        "accr = model.evaluate(test_sequences_matrix,Y_test)"
      ],
      "metadata": {
        "_uuid": "0db183049b59d96388812a98efedfc865b7cc141",
        "trusted": true,
        "id": "0Iiokgceth06",
        "outputId": "ea173911-d003-4a53-c5ea-4fe452b5c8cf"
      },
      "execution_count": null,
      "outputs": [
        {
          "name": "stdout",
          "text": "35/35 [==============================] - 0s 5ms/step - loss: 0.0805 - accuracy: 0.9830 - precision_1: 0.9370\n",
          "output_type": "stream"
        }
      ]
    },
    {
      "cell_type": "code",
      "source": [
        "print('Test set\\n  Loss: {:0.3f}\\n  Accuracy: {:0.3f}'.format(accr[0],accr[1]))"
      ],
      "metadata": {
        "scrolled": true,
        "_uuid": "3e121ab83f4a0b9f7376ab24aa25d67051171f89",
        "trusted": true,
        "id": "p61RQsCZth0-",
        "outputId": "caf675eb-267f-4010-e1d2-acedb7b3907e"
      },
      "execution_count": null,
      "outputs": [
        {
          "name": "stdout",
          "text": "Test set\n  Loss: 0.070\n  Accuracy: 0.983\n",
          "output_type": "stream"
        }
      ]
    },
    {
      "cell_type": "code",
      "source": [
        "print(' LSTM Test set\\n  Loss: {:0.3f}\\n  Accuracy: {:0.3f}'.format(accr[0],accr[1]))"
      ],
      "metadata": {
        "trusted": true,
        "id": "A9t4rcMrth0-",
        "outputId": "86c6602e-26f2-42b5-9691-383259ccb153"
      },
      "execution_count": null,
      "outputs": [
        {
          "name": "stdout",
          "text": " LSTM Test set\n  Loss: 0.081\n  Accuracy: 0.983\n",
          "output_type": "stream"
        }
      ]
    },
    {
      "cell_type": "code",
      "source": [],
      "metadata": {
        "id": "dl5Zw_Fvth0_"
      },
      "execution_count": null,
      "outputs": []
    }
  ]
}